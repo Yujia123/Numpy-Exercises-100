{
 "cells": [
  {
   "cell_type": "markdown",
   "metadata": {},
   "source": [
    "# 100 numpy exercises\n",
    "\n",
    "This is a collection of exercises that have been collected in the numpy mailing list, on stack overflow and in the numpy documentation. The goal of this collection is to offer a quick reference for both old and new users but also to provide a set of exercises for those who teach.\n",
    "\n",
    "\n",
    "If you find an error or think you've a better way to solve some of them, feel free to open an issue at <https://github.com/rougier/numpy-100>"
   ]
  },
  {
   "cell_type": "markdown",
   "metadata": {},
   "source": [
    "#### 1. Import the numpy package under the name `np` (★☆☆)"
   ]
  },
  {
   "cell_type": "code",
   "execution_count": 1,
   "metadata": {},
   "outputs": [],
   "source": [
    "import numpy as np"
   ]
  },
  {
   "cell_type": "markdown",
   "metadata": {},
   "source": [
    "#### 2. Print the numpy version and the configuration (★☆☆)"
   ]
  },
  {
   "cell_type": "code",
   "execution_count": 3,
   "metadata": {},
   "outputs": [
    {
     "name": "stdout",
     "output_type": "stream",
     "text": [
      "1.15.0 <function show at 0x00000211B3A5DD08>\n"
     ]
    }
   ],
   "source": [
    "print(np.__version__, np.show_config)"
   ]
  },
  {
   "cell_type": "markdown",
   "metadata": {},
   "source": [
    "#### 3. Create a null vector of size 10 (★☆☆)"
   ]
  },
  {
   "cell_type": "code",
   "execution_count": 5,
   "metadata": {},
   "outputs": [
    {
     "data": {
      "text/plain": [
       "array([0., 0., 0., 0., 0., 0., 0., 0., 0., 0.])"
      ]
     },
     "execution_count": 5,
     "metadata": {},
     "output_type": "execute_result"
    }
   ],
   "source": [
    "Z=np.zeros(10)\n",
    "print(Z)"
   ]
  },
  {
   "cell_type": "markdown",
   "metadata": {},
   "source": [
    "#### 4.  How to find the memory size of any array (★☆☆)"
   ]
  },
  {
   "cell_type": "code",
   "execution_count": 13,
   "metadata": {},
   "outputs": [
    {
     "name": "stdout",
     "output_type": "stream",
     "text": [
      "size: 100 items, itemsize: 8 bytes\n",
      "800 bytes\n"
     ]
    }
   ],
   "source": [
    "Z = np.zeros((10, 10))\n",
    "print(\"size: %d items, itemsize: %d bytes\" % (Z.size, Z.itemsize))\n",
    "print(\"%d bytes\" % (Z.size * Z.itemsize))"
   ]
  },
  {
   "cell_type": "markdown",
   "metadata": {},
   "source": [
    "#### 5.  How to get the documentation of the numpy add function from the command line? (★☆☆)"
   ]
  },
  {
   "cell_type": "code",
   "execution_count": 18,
   "metadata": {},
   "outputs": [
    {
     "name": "stdout",
     "output_type": "stream",
     "text": [
      "add(x1, x2, /, out=None, *, where=True, casting='same_kind', order='K', dtype=None, subok=True[, signature, extobj])\n",
      "\n",
      "Add arguments element-wise.\n",
      "\n",
      "Parameters\n",
      "----------\n",
      "x1, x2 : array_like\n",
      "    The arrays to be added.  If ``x1.shape != x2.shape``, they must be\n",
      "    broadcastable to a common shape (which may be the shape of one or\n",
      "    the other).\n",
      "out : ndarray, None, or tuple of ndarray and None, optional\n",
      "    A location into which the result is stored. If provided, it must have\n",
      "    a shape that the inputs broadcast to. If not provided or `None`,\n",
      "    a freshly-allocated array is returned. A tuple (possible only as a\n",
      "    keyword argument) must have length equal to the number of outputs.\n",
      "where : array_like, optional\n",
      "    Values of True indicate to calculate the ufunc at that position, values\n",
      "    of False indicate to leave the value in the output alone.\n",
      "**kwargs\n",
      "    For other keyword-only arguments, see the\n",
      "    :ref:`ufunc docs <ufuncs.kwargs>`.\n",
      "\n",
      "Returns\n",
      "-------\n",
      "add : ndarray or scalar\n",
      "    The sum of `x1` and `x2`, element-wise.\n",
      "    This is a scalar if both `x1` and `x2` are scalars.\n",
      "\n",
      "Notes\n",
      "-----\n",
      "Equivalent to `x1` + `x2` in terms of array broadcasting.\n",
      "\n",
      "Examples\n",
      "--------\n",
      ">>> np.add(1.0, 4.0)\n",
      "5.0\n",
      ">>> x1 = np.arange(9.0).reshape((3, 3))\n",
      ">>> x2 = np.arange(3.0)\n",
      ">>> np.add(x1, x2)\n",
      "array([[  0.,   2.,   4.],\n",
      "       [  3.,   5.,   7.],\n",
      "       [  6.,   8.,  10.]])\n"
     ]
    }
   ],
   "source": [
    "np.info(np.add)"
   ]
  },
  {
   "cell_type": "markdown",
   "metadata": {},
   "source": [
    "#### 6.  Create a null vector of size 10 but the fifth value which is 1 (★☆☆)"
   ]
  },
  {
   "cell_type": "code",
   "execution_count": 26,
   "metadata": {},
   "outputs": [
    {
     "name": "stdout",
     "output_type": "stream",
     "text": [
      "[0. 0. 0. 0. 1. 0. 0. 0. 0. 0.]\n"
     ]
    }
   ],
   "source": [
    "N = np.zeros(10)\n",
    "N[4]=1\n",
    "print(N)"
   ]
  },
  {
   "cell_type": "markdown",
   "metadata": {},
   "source": [
    "#### 7.  Create a vector with values ranging from 10 to 49 (★☆☆)"
   ]
  },
  {
   "cell_type": "code",
   "execution_count": 28,
   "metadata": {},
   "outputs": [
    {
     "name": "stdout",
     "output_type": "stream",
     "text": [
      "[10 11 12 13 14 15 16 17 18 19 20 21 22 23 24 25 26 27 28 29 30 31 32 33\n",
      " 34 35 36 37 38 39 40 41 42 43 44 45 46 47 48 49]\n"
     ]
    }
   ],
   "source": [
    "Z = np.arange(10, 50)\n",
    "print(Z)"
   ]
  },
  {
   "cell_type": "markdown",
   "metadata": {},
   "source": [
    "#### 8.  Reverse a vector (first element becomes last) (★☆☆)"
   ]
  },
  {
   "cell_type": "code",
   "execution_count": 38,
   "metadata": {},
   "outputs": [
    {
     "name": "stdout",
     "output_type": "stream",
     "text": [
      "[0 1 2 3 4 5 6 7 8 9]\n",
      "[9 8 7 6 5 4 3 2 1 0]\n"
     ]
    }
   ],
   "source": [
    "A = np.arange(10)\n",
    "print(A)\n",
    "print(A[::-1])"
   ]
  },
  {
   "cell_type": "markdown",
   "metadata": {},
   "source": [
    "#### 9.  Create a 3x3 matrix with values ranging from 0 to 8 (★☆☆)"
   ]
  },
  {
   "cell_type": "code",
   "execution_count": 45,
   "metadata": {},
   "outputs": [
    {
     "name": "stdout",
     "output_type": "stream",
     "text": [
      "[[0 1 2]\n",
      " [3 4 5]\n",
      " [6 7 8]]\n"
     ]
    }
   ],
   "source": [
    "A = np.arange(9).reshape(3,3)\n",
    "print(A)"
   ]
  },
  {
   "cell_type": "markdown",
   "metadata": {},
   "source": [
    "#### 10. Find indices of non-zero elements from \\[1,2,0,0,4,0\\] (★☆☆)"
   ]
  },
  {
   "cell_type": "code",
   "execution_count": 48,
   "metadata": {},
   "outputs": [
    {
     "name": "stdout",
     "output_type": "stream",
     "text": [
      "(array([0, 1, 4], dtype=int64),)\n"
     ]
    }
   ],
   "source": [
    "nz = np.nonzero([1,2,0,0,4,0])\n",
    "print(nz)"
   ]
  },
  {
   "cell_type": "markdown",
   "metadata": {},
   "source": [
    "#### 11. Create a 3x3 identity matrix (★☆☆)"
   ]
  },
  {
   "cell_type": "code",
   "execution_count": 56,
   "metadata": {},
   "outputs": [
    {
     "name": "stdout",
     "output_type": "stream",
     "text": [
      "[[1. 0. 0.]\n",
      " [0. 1. 0.]\n",
      " [0. 0. 1.]]\n"
     ]
    }
   ],
   "source": [
    "A = np.eye(3,3)\n",
    "print(A)"
   ]
  },
  {
   "cell_type": "markdown",
   "metadata": {},
   "source": [
    "#### 12. Create a 3x3x3 array with random values (★☆☆)"
   ]
  },
  {
   "cell_type": "code",
   "execution_count": 58,
   "metadata": {},
   "outputs": [
    {
     "name": "stdout",
     "output_type": "stream",
     "text": [
      "[[[0.34400404 0.3557987  0.28081259]\n",
      "  [0.49857583 0.29603277 0.76363354]\n",
      "  [0.88586174 0.16451341 0.94726251]]\n",
      "\n",
      " [[0.0147131  0.11552375 0.49384126]\n",
      "  [0.86701399 0.43237891 0.443571  ]\n",
      "  [0.04463489 0.91150521 0.10570074]]\n",
      "\n",
      " [[0.01606387 0.09424382 0.60810427]\n",
      "  [0.21882475 0.61998092 0.02681139]\n",
      "  [0.07373279 0.40641594 0.76208614]]]\n"
     ]
    }
   ],
   "source": [
    "A = np.random.random((3,3,3))\n",
    "print(A)"
   ]
  },
  {
   "cell_type": "markdown",
   "metadata": {},
   "source": [
    "[np.random.rand vs np.random.random](https://stackoverflow.com/questions/47231852/np-random-rand-vs-np-random-random)   \n",
    "[python numpy : random.rand 和 random.random 的区别](https://blog.csdn.net/xia_ri_xing/article/details/82949004)"
   ]
  },
  {
   "cell_type": "markdown",
   "metadata": {},
   "source": [
    "#### 13. Create a 10x10 array with random values and find the minimum and maximum values (★☆☆)"
   ]
  },
  {
   "cell_type": "code",
   "execution_count": 62,
   "metadata": {},
   "outputs": [
    {
     "name": "stdout",
     "output_type": "stream",
     "text": [
      "0.9888799124794981 0.003703663559630588\n"
     ]
    }
   ],
   "source": [
    "A = np.random.random((10, 10))\n",
    "Amax, Amin = A.max(), A.min()\n",
    "print(Amax, Amin)"
   ]
  },
  {
   "cell_type": "markdown",
   "metadata": {},
   "source": [
    "#### 14. Create a random vector of size 30 and find the mean value (★☆☆)"
   ]
  },
  {
   "cell_type": "code",
   "execution_count": 65,
   "metadata": {},
   "outputs": [
    {
     "name": "stdout",
     "output_type": "stream",
     "text": [
      "0.3884300430329036\n"
     ]
    }
   ],
   "source": [
    "A = np.random.random(30)\n",
    "m = A.mean()\n",
    "print(m)"
   ]
  },
  {
   "cell_type": "markdown",
   "metadata": {},
   "source": [
    "#### 15. Create a 2d array with 1 on the border and 0 inside (★☆☆)"
   ]
  },
  {
   "cell_type": "code",
   "execution_count": 69,
   "metadata": {},
   "outputs": [
    {
     "name": "stdout",
     "output_type": "stream",
     "text": [
      "[[1. 1. 1. 1. 1. 1. 1. 1. 1. 1.]\n",
      " [1. 0. 0. 0. 0. 0. 0. 0. 0. 1.]\n",
      " [1. 0. 0. 0. 0. 0. 0. 0. 0. 1.]\n",
      " [1. 0. 0. 0. 0. 0. 0. 0. 0. 1.]\n",
      " [1. 0. 0. 0. 0. 0. 0. 0. 0. 1.]\n",
      " [1. 0. 0. 0. 0. 0. 0. 0. 0. 1.]\n",
      " [1. 0. 0. 0. 0. 0. 0. 0. 0. 1.]\n",
      " [1. 0. 0. 0. 0. 0. 0. 0. 0. 1.]\n",
      " [1. 0. 0. 0. 0. 0. 0. 0. 0. 1.]\n",
      " [1. 1. 1. 1. 1. 1. 1. 1. 1. 1.]]\n"
     ]
    }
   ],
   "source": [
    "A = np.ones((10, 10))\n",
    "A[1:-1,1:-1] = 0\n",
    "print(A)"
   ]
  },
  {
   "cell_type": "markdown",
   "metadata": {},
   "source": [
    "#### 16. How to add a border (filled with 0's) around an existing array? (★☆☆)"
   ]
  },
  {
   "cell_type": "code",
   "execution_count": 81,
   "metadata": {},
   "outputs": [
    {
     "name": "stdout",
     "output_type": "stream",
     "text": [
      "[[0. 0. 0. 0. 0. 0. 0.]\n",
      " [0. 1. 1. 1. 1. 1. 0.]\n",
      " [0. 1. 1. 1. 1. 1. 0.]\n",
      " [0. 1. 1. 1. 1. 1. 0.]\n",
      " [0. 1. 1. 1. 1. 1. 0.]\n",
      " [0. 1. 1. 1. 1. 1. 0.]\n",
      " [0. 0. 0. 0. 0. 0. 0.]]\n"
     ]
    }
   ],
   "source": [
    "Z = np.ones((5,5))\n",
    "Z = np.pad(Z, pad_width=1, mode='constant', constant_values=0)\n",
    "print(Z)"
   ]
  },
  {
   "cell_type": "markdown",
   "metadata": {},
   "source": [
    "#### 17. What is the result of the following expression? (★☆☆)"
   ]
  },
  {
   "cell_type": "markdown",
   "metadata": {},
   "source": [
    "```python\n",
    "0 * np.nan\n",
    "np.nan == np.nan\n",
    "np.inf > np.nan\n",
    "np.nan - np.nan\n",
    "np.nan in set([np.nan])\n",
    "0.3 == 3 * 0.1\n",
    "```"
   ]
  },
  {
   "cell_type": "code",
   "execution_count": 83,
   "metadata": {},
   "outputs": [
    {
     "name": "stdout",
     "output_type": "stream",
     "text": [
      "nan\n",
      "False\n",
      "False\n",
      "nan\n",
      "True\n",
      "False\n"
     ]
    }
   ],
   "source": [
    "print(0 * np.nan)\n",
    "print(np.nan == np.nan)\n",
    "print(np.inf > np.nan)\n",
    "print(np.nan - np.nan)\n",
    "print(np.nan in set([np.nan]))\n",
    "print(0.3 == 3 * 0.1)"
   ]
  },
  {
   "cell_type": "markdown",
   "metadata": {},
   "source": [
    "#### 18. Create a 5x5 matrix with values 1,2,3,4 just below the diagonal (★☆☆)"
   ]
  },
  {
   "cell_type": "code",
   "execution_count": 87,
   "metadata": {},
   "outputs": [
    {
     "name": "stdout",
     "output_type": "stream",
     "text": [
      "[[0 0 0 0 0]\n",
      " [1 0 0 0 0]\n",
      " [0 2 0 0 0]\n",
      " [0 0 3 0 0]\n",
      " [0 0 0 4 0]]\n"
     ]
    }
   ],
   "source": [
    "Z = np.diag(1+np.arange(4), -1)\n",
    "print(Z)"
   ]
  },
  {
   "cell_type": "markdown",
   "metadata": {},
   "source": [
    "#### 19. Create a 8x8 matrix and fill it with a checkerboard pattern (★☆☆)"
   ]
  },
  {
   "cell_type": "code",
   "execution_count": 90,
   "metadata": {},
   "outputs": [
    {
     "name": "stdout",
     "output_type": "stream",
     "text": [
      "[[0 1 0 1 0 1 0 1]\n",
      " [1 0 1 0 1 0 1 0]\n",
      " [0 1 0 1 0 1 0 1]\n",
      " [1 0 1 0 1 0 1 0]\n",
      " [0 1 0 1 0 1 0 1]\n",
      " [1 0 1 0 1 0 1 0]\n",
      " [0 1 0 1 0 1 0 1]\n",
      " [1 0 1 0 1 0 1 0]]\n"
     ]
    }
   ],
   "source": [
    "Z = np.zeros((8,8), dtype=int)\n",
    "Z[1::2, ::2] = 1\n",
    "Z[::2, 1::2] = 1\n",
    "print(Z)"
   ]
  },
  {
   "cell_type": "markdown",
   "metadata": {},
   "source": [
    "#### 20. Consider a (6,7,8) shape array, what is the index (x,y,z) of the 100th element?"
   ]
  },
  {
   "cell_type": "code",
   "execution_count": 95,
   "metadata": {},
   "outputs": [
    {
     "name": "stdout",
     "output_type": "stream",
     "text": [
      "(1, 5, 4)\n"
     ]
    }
   ],
   "source": [
    "print(np.unravel_index(100, (6,7,8)))"
   ]
  },
  {
   "cell_type": "markdown",
   "metadata": {},
   "source": [
    "[What is an intuitive explanation of np.unravel_index?](https://stackoverflow.com/questions/48135736/what-is-an-intuitive-explanation-of-np-unravel-index)"
   ]
  },
  {
   "cell_type": "code",
   "execution_count": 99,
   "metadata": {},
   "outputs": [
    {
     "name": "stdout",
     "output_type": "stream",
     "text": [
      "[[0.28049766 0.55909521 0.84633275]\n",
      " [0.12545005 0.09519838 0.45634673]\n",
      " [0.99220543 0.41860291 0.74468424]] \n",
      "\n",
      "(1, 2) \n",
      "\n",
      "0.456346731923824\n"
     ]
    }
   ],
   "source": [
    "A = np.random.random((3,3))\n",
    "print(A, '\\n')\n",
    "print(np.unravel_index(5,(3,3)), '\\n')\n",
    "print(A[1][2])"
   ]
  },
  {
   "cell_type": "markdown",
   "metadata": {},
   "source": [
    "#### 21. Create a checkerboard 8x8 matrix using the tile function (★☆☆)"
   ]
  },
  {
   "cell_type": "code",
   "execution_count": 101,
   "metadata": {},
   "outputs": [
    {
     "name": "stdout",
     "output_type": "stream",
     "text": [
      "[[1 0 1 0 1 0]\n",
      " [0 1 0 1 0 1]\n",
      " [1 0 1 0 1 0]\n",
      " [0 1 0 1 0 1]\n",
      " [1 0 1 0 1 0]\n",
      " [0 1 0 1 0 1]]\n"
     ]
    }
   ],
   "source": [
    "Z = np.tile([[1,0],[0,1]], (3,3))\n",
    "print(Z)"
   ]
  },
  {
   "cell_type": "markdown",
   "metadata": {},
   "source": [
    "#### 22. Normalize a 5x5 random matrix (★☆☆)"
   ]
  },
  {
   "cell_type": "code",
   "execution_count": 105,
   "metadata": {},
   "outputs": [
    {
     "name": "stdout",
     "output_type": "stream",
     "text": [
      "[[ 0.49059221  0.29718237  1.51459022  0.21177831 -1.48127448]\n",
      " [ 0.88975049  0.84303299  1.22367088 -0.35104748 -0.96940748]\n",
      " [-0.41153769  1.86272166  1.2139184  -1.70711513 -1.28150307]\n",
      " [ 0.16832414  0.28687421  1.19934561 -0.79520031 -0.34117705]\n",
      " [-0.71961695  0.55201891 -1.43409647 -0.16562656 -1.09619772]]\n"
     ]
    }
   ],
   "source": [
    "Z = np.random.random((5,5))\n",
    "Z = (Z - np.mean(Z))/(np.std(Z))\n",
    "print(Z)"
   ]
  },
  {
   "cell_type": "markdown",
   "metadata": {},
   "source": [
    "#### 23. Create a custom dtype that describes a color as four unsigned bytes (RGBA) (★☆☆)"
   ]
  },
  {
   "cell_type": "code",
   "execution_count": 106,
   "metadata": {},
   "outputs": [],
   "source": [
    "color = np.dtype([(\"r\", np.ubyte, 1),\n",
    "                  (\"g\", np.ubyte, 1),\n",
    "                  (\"b\", np.ubyte, 1),\n",
    "                  (\"a\", np.ubyte, 1)])"
   ]
  },
  {
   "cell_type": "markdown",
   "metadata": {},
   "source": [
    "#### 24. Multiply a 5x3 matrix by a 3x2 matrix (real matrix product) (★☆☆)"
   ]
  },
  {
   "cell_type": "code",
   "execution_count": 116,
   "metadata": {},
   "outputs": [
    {
     "name": "stdout",
     "output_type": "stream",
     "text": [
      "[[3. 3.]\n",
      " [3. 3.]\n",
      " [3. 3.]\n",
      " [3. 3.]\n",
      " [3. 3.]] \n",
      "\n"
     ]
    }
   ],
   "source": [
    "print(np.dot(np.ones((5,3)), np.ones((3,2))), '\\n')\n",
    "\n",
    "# Alternative solution, in Python 3.5 and above\n",
    "# The @ (at) operator is intended to be used for matrix multiplication\n",
    "Z = np.ones((5,3)) @ np.ones((3,2))"
   ]
  },
  {
   "cell_type": "markdown",
   "metadata": {},
   "source": [
    "[6. Expressions — Python 3.7.2 documentation](https://docs.python.org/3/reference/expressions.html)"
   ]
  },
  {
   "cell_type": "markdown",
   "metadata": {},
   "source": [
    "#### 25. Given a 1D array, negate all elements which are between 3 and 8, in place. (★☆☆)"
   ]
  },
  {
   "cell_type": "code",
   "execution_count": 123,
   "metadata": {},
   "outputs": [
    {
     "name": "stdout",
     "output_type": "stream",
     "text": [
      "[ 0  1  2  3 -4 -5 -6 -7  8  9 10 11 12 13 14]\n"
     ]
    }
   ],
   "source": [
    "# 列表推导式\n",
    "# Z = np.arange(15)\n",
    "# N = [i*-1 if 3<=i<8 else i for i in Z]\n",
    "# print(N)\n",
    "\n",
    "Z = np.arange(15)\n",
    "Z[(3<Z) & (Z<8)] *= -1\n",
    "print(Z)"
   ]
  },
  {
   "cell_type": "markdown",
   "metadata": {},
   "source": [
    "[Python列表解析配合if else](https://blog.csdn.net/ZK_J1994/article/details/72809260)"
   ]
  },
  {
   "cell_type": "markdown",
   "metadata": {},
   "source": [
    "#### 26. What is the output of the following script? (★☆☆)"
   ]
  },
  {
   "cell_type": "markdown",
   "metadata": {},
   "source": [
    "```python\n",
    "# Author: Jake VanderPlas\n",
    "\n",
    "print(sum(range(5),-1))\n",
    "from numpy import *\n",
    "print(sum(range(5),-1))\n",
    "```"
   ]
  },
  {
   "cell_type": "code",
   "execution_count": 150,
   "metadata": {},
   "outputs": [
    {
     "name": "stdout",
     "output_type": "stream",
     "text": [
      "9\n",
      "10\n",
      "10\n"
     ]
    }
   ],
   "source": [
    "print(sum(range(5), -1))  # 计算总和后再减1\n",
    "print(np.sum(range(5), -1))  # 计算总和  等同于 np.sum(range(5))"
   ]
  },
  {
   "cell_type": "code",
   "execution_count": 163,
   "metadata": {},
   "outputs": [
    {
     "name": "stdout",
     "output_type": "stream",
     "text": [
      "2\n"
     ]
    }
   ],
   "source": [
    "print(sum([1,2], -1))"
   ]
  },
  {
   "cell_type": "markdown",
   "metadata": {},
   "source": [
    "#### 27. Consider an integer vector Z, which of these expressions are legal? (★☆☆)"
   ]
  },
  {
   "cell_type": "markdown",
   "metadata": {},
   "source": [
    "```python\n",
    "Z**Z\n",
    "2 << Z >> 2\n",
    "Z <- Z\n",
    "1j*Z\n",
    "Z/1/1\n",
    "Z<Z>Z\n",
    "```"
   ]
  },
  {
   "cell_type": "code",
   "execution_count": 141,
   "metadata": {},
   "outputs": [
    {
     "name": "stdout",
     "output_type": "stream",
     "text": [
      "[1 2 3 4 5]\n",
      "[   1    4   27  256 3125]\n",
      "[ 1  2  4  8 16]\n",
      "[False False False False False]\n",
      "[0.+1.j 0.+2.j 0.+3.j 0.+4.j 0.+5.j]\n",
      "[1. 2. 3. 4. 5.]\n"
     ]
    }
   ],
   "source": [
    "Z = np.arange(1,6)\n",
    "print(Z)\n",
    "print(Z**Z)  # 1^1, 2^2, 3^3, 4^4, 5^5\n",
    "print(2<<Z>>2)\n",
    "print(Z<-Z)\n",
    "print(1j*Z)\n",
    "print(Z/1/1)"
   ]
  },
  {
   "cell_type": "code",
   "execution_count": 165,
   "metadata": {},
   "outputs": [
    {
     "name": "stdout",
     "output_type": "stream",
     "text": [
      "0b1010\n",
      "0b101000\n",
      "0b10\n",
      "2\n"
     ]
    },
    {
     "data": {
      "text/plain": [
       "2"
      ]
     },
     "execution_count": 165,
     "metadata": {},
     "output_type": "execute_result"
    }
   ],
   "source": [
    "b = 10\n",
    "print(bin(b))\n",
    "print(bin(b<<2))   # 左移运算符\n",
    "print(bin(b>>2))\n",
    "print(0b10)   # int(0b10) - 2   # int(0x0F) - 15"
   ]
  },
  {
   "cell_type": "markdown",
   "metadata": {},
   "source": [
    "#### 28. What are the result of the following expressions?"
   ]
  },
  {
   "cell_type": "markdown",
   "metadata": {},
   "source": [
    "```python\n",
    "np.array(0) / np.array(0)\n",
    "np.array(0) // np.array(0)\n",
    "np.array([np.nan]).astype(int).astype(float)\n",
    "```"
   ]
  },
  {
   "cell_type": "code",
   "execution_count": 156,
   "metadata": {},
   "outputs": [
    {
     "name": "stdout",
     "output_type": "stream",
     "text": [
      "nan\n",
      "0\n",
      "[-2.14748365e+09]\n"
     ]
    },
    {
     "name": "stderr",
     "output_type": "stream",
     "text": [
      "c:\\program files (x86)\\microsoft visual studio\\shared\\python36_64\\lib\\site-packages\\ipykernel_launcher.py:1: RuntimeWarning: invalid value encountered in true_divide\n",
      "  \"\"\"Entry point for launching an IPython kernel.\n",
      "c:\\program files (x86)\\microsoft visual studio\\shared\\python36_64\\lib\\site-packages\\ipykernel_launcher.py:2: RuntimeWarning: divide by zero encountered in floor_divide\n",
      "  \n"
     ]
    }
   ],
   "source": [
    "print(np.array(0) / np.array(0))\n",
    "print(np.array(0) // np.array(0))\n",
    "print(np.array([np.nan]).astype(int).astype(float))"
   ]
  },
  {
   "cell_type": "markdown",
   "metadata": {},
   "source": [
    "#### 29. How to round away from zero a float array ? (★☆☆)"
   ]
  },
  {
   "cell_type": "code",
   "execution_count": 168,
   "metadata": {},
   "outputs": [
    {
     "name": "stdout",
     "output_type": "stream",
     "text": [
      "[-8.76882602 -8.7286708  -9.5471171   7.86445482 -7.35171301  0.30531667\n",
      "  6.14217992 -6.88306731 -3.7487825   7.51632488]\n",
      "[ -9.  -9. -10.   8.  -8.   1.   7.  -7.  -4.   8.]\n"
     ]
    }
   ],
   "source": [
    "Z = np.random.uniform(-10, +10, 10)\n",
    "print(Z)\n",
    "print(np.copysign(np.ceil(np.abs(Z)), Z))"
   ]
  },
  {
   "cell_type": "code",
   "execution_count": 170,
   "metadata": {},
   "outputs": [
    {
     "name": "stdout",
     "output_type": "stream",
     "text": [
      "[-4.45295049 -5.39284674  2.84584897  7.68280169  9.52541375  6.6347849\n",
      " -9.40495575  7.02811264 -6.36032203 -3.10417422]\n",
      "[-4. -5.  3.  8. 10.  7. -9.  7. -6. -3.]\n"
     ]
    }
   ],
   "source": [
    "Z = np.random.uniform(-10, +10, 10)\n",
    "print(Z)\n",
    "print(np.round(Z))"
   ]
  },
  {
   "cell_type": "markdown",
   "metadata": {},
   "source": [
    "#### 30. How to find common values between two arrays? (★☆☆)"
   ]
  },
  {
   "cell_type": "code",
   "execution_count": 180,
   "metadata": {},
   "outputs": [
    {
     "name": "stdout",
     "output_type": "stream",
     "text": [
      "[1 4 5 8 4 2 5 3 5 3] [7 8 4 1 5 1 9 4 9 1]\n",
      "[1 4 5 8]\n"
     ]
    }
   ],
   "source": [
    "Z1 = np.random.randint(0, 10, 10)\n",
    "Z2 = np.random.randint(0, 10, 10)\n",
    "print(Z1, Z2)\n",
    "print(np.intersect1d(Z1, Z2))"
   ]
  },
  {
   "cell_type": "markdown",
   "metadata": {},
   "source": [
    "[numpy.intersect1d — NumPy v1.15 Manual](https://docs.scipy.org/doc/numpy-1.15.0/reference/generated/numpy.intersect1d.html)"
   ]
  },
  {
   "cell_type": "code",
   "execution_count": 208,
   "metadata": {},
   "outputs": [
    {
     "data": {
      "text/plain": [
       "array([3])"
      ]
     },
     "execution_count": 208,
     "metadata": {},
     "output_type": "execute_result"
    }
   ],
   "source": [
    "from functools import reduce\n",
    "reduce(np.intersect1d, ([1, 3, 4, 3], [3, 1, 2, 1], [6, 3, 4, 2]))"
   ]
  },
  {
   "cell_type": "code",
   "execution_count": 197,
   "metadata": {},
   "outputs": [
    {
     "name": "stdout",
     "output_type": "stream",
     "text": [
      "['The Deep Learning textbook is a resource intended to help students and practitioners enter the field of machine learning in general and deep learning in particular.']\n",
      "reduce(function, sequence[, initial]) -> value\n",
      "\n",
      "Apply a function of two arguments cumulatively to the items of a sequence,\n",
      "from left to right, so as to reduce the sequence to a single value.\n",
      "For example, reduce(lambda x, y: x+y, [1, 2, 3, 4, 5]) calculates\n",
      "((((1+2)+3)+4)+5).  If initial is present, it is placed before the items\n",
      "of the sequence in the calculation, and serves as a default when the\n",
      "sequence is empty.\n",
      "None\n"
     ]
    }
   ],
   "source": [
    "print(sentences)\n",
    "print(np.info(reduce))"
   ]
  },
  {
   "cell_type": "markdown",
   "metadata": {},
   "source": [
    "#### 31. How to ignore all numpy warnings (not recommended)? (★☆☆)"
   ]
  },
  {
   "cell_type": "code",
   "execution_count": 207,
   "metadata": {},
   "outputs": [
    {
     "name": "stdout",
     "output_type": "stream",
     "text": [
      "[inf]\n",
      "[inf]\n",
      "[inf]\n"
     ]
    }
   ],
   "source": [
    "# Suicide mode on\n",
    "defaults = np.seterr(all=\"ignore\")\n",
    "Z = np.ones(1) / 0\n",
    "print(Z)\n",
    "\n",
    "# Back to sanity\n",
    "_ = np.seterr(**defaults)\n",
    "print(Z)\n",
    "\n",
    "# An equivalent way, with a context manager:\n",
    "with np.errstate(divide='ignore'):\n",
    "    Z = np.ones(1) / 0\n",
    "    print(Z)"
   ]
  },
  {
   "cell_type": "markdown",
   "metadata": {},
   "source": [
    "[numpy.seterr — NumPy v1.16 Manual](https://docs.scipy.org/doc/numpy/reference/generated/numpy.seterr.html)"
   ]
  },
  {
   "cell_type": "markdown",
   "metadata": {},
   "source": [
    "#### 32. Is the following expressions true? (★☆☆)"
   ]
  },
  {
   "cell_type": "markdown",
   "metadata": {},
   "source": [
    "```python\n",
    "np.sqrt(-1) == np.emath.sqrt(-1)\n",
    "```"
   ]
  },
  {
   "cell_type": "code",
   "execution_count": 214,
   "metadata": {},
   "outputs": [
    {
     "name": "stdout",
     "output_type": "stream",
     "text": [
      "1j\n",
      "nan\n"
     ]
    },
    {
     "data": {
      "text/plain": [
       "False"
      ]
     },
     "execution_count": 214,
     "metadata": {},
     "output_type": "execute_result"
    }
   ],
   "source": [
    "print(np.emath.sqrt(-1))\n",
    "print(np.sqrt(-1))\n",
    "np.sqrt(-1) == np.emath.sqrt(-1)"
   ]
  },
  {
   "cell_type": "markdown",
   "metadata": {},
   "source": [
    "#### 33. How to get the dates of yesterday, today and tomorrow? (★☆☆)"
   ]
  },
  {
   "cell_type": "code",
   "execution_count": 218,
   "metadata": {},
   "outputs": [
    {
     "name": "stdout",
     "output_type": "stream",
     "text": [
      "2019-02-02\n",
      "2019-02-03\n",
      "2019-02-04\n"
     ]
    }
   ],
   "source": [
    "yesterday = np.datetime64('today', 'D') - np.timedelta64(1, 'D')\n",
    "today = np.datetime64('today', 'D')\n",
    "tomorrow = np.datetime64('today', 'D') + np.timedelta64(1, 'D')\n",
    "print(yesterday)\n",
    "print(today)\n",
    "print(tomorrow)"
   ]
  },
  {
   "cell_type": "markdown",
   "metadata": {},
   "source": [
    "#### 34. How to get all the dates corresponding to the month of July 2016? (★★☆)"
   ]
  },
  {
   "cell_type": "code",
   "execution_count": 219,
   "metadata": {},
   "outputs": [
    {
     "name": "stdout",
     "output_type": "stream",
     "text": [
      "['2016-07-01' '2016-07-02' '2016-07-03' '2016-07-04' '2016-07-05'\n",
      " '2016-07-06' '2016-07-07' '2016-07-08' '2016-07-09' '2016-07-10'\n",
      " '2016-07-11' '2016-07-12' '2016-07-13' '2016-07-14' '2016-07-15'\n",
      " '2016-07-16' '2016-07-17' '2016-07-18' '2016-07-19' '2016-07-20'\n",
      " '2016-07-21' '2016-07-22' '2016-07-23' '2016-07-24' '2016-07-25'\n",
      " '2016-07-26' '2016-07-27' '2016-07-28' '2016-07-29' '2016-07-30'\n",
      " '2016-07-31']\n"
     ]
    }
   ],
   "source": [
    "Z = np.arange('2016-07','2016-08', dtype='datetime64[D]')\n",
    "print(Z)"
   ]
  },
  {
   "cell_type": "markdown",
   "metadata": {},
   "source": [
    "#### 35. How to compute ((A+B)\\*(-A/2)) in place (without copy)? (★★☆)"
   ]
  },
  {
   "cell_type": "code",
   "execution_count": 222,
   "metadata": {},
   "outputs": [
    {
     "name": "stdout",
     "output_type": "stream",
     "text": [
      "[3. 3. 3.]\n",
      "[0.5 0.5 0.5]\n",
      "[-0.5 -0.5 -0.5]\n",
      "[-1.5 -1.5 -1.5]\n"
     ]
    }
   ],
   "source": [
    "A = np.ones(3)*1\n",
    "B = np.ones(3)*2\n",
    "np.add(A,B,out=B)\n",
    "print(B)\n",
    "np.divide(A,2,out=A)\n",
    "print(A)\n",
    "np.negative(A,out=A)\n",
    "print(A)\n",
    "np.multiply(A,B,out=A)\n",
    "print(A)"
   ]
  },
  {
   "cell_type": "markdown",
   "metadata": {},
   "source": [
    "#### 36. Extract the integer part of a random array using 5 different methods (★★☆)"
   ]
  },
  {
   "cell_type": "code",
   "execution_count": 230,
   "metadata": {},
   "outputs": [
    {
     "name": "stdout",
     "output_type": "stream",
     "text": [
      "[5.69983846 1.77411876 9.03305308 1.67249391 2.41660996 8.53728534\n",
      " 1.67654247 1.36189149 0.54196569 4.2831548 ]\n",
      "[5. 1. 9. 1. 2. 8. 1. 1. 0. 4.]\n",
      "[5. 1. 9. 1. 2. 8. 1. 1. 0. 4.]\n",
      "[5. 1. 9. 1. 2. 8. 1. 1. 0. 4.]\n",
      "[5 1 9 1 2 8 1 1 0 4]\n",
      "[5. 1. 9. 1. 2. 8. 1. 1. 0. 4.]\n"
     ]
    }
   ],
   "source": [
    "Z = np.random.uniform(0, 10, 10)\n",
    "print(Z)\n",
    "\n",
    "print(Z - Z%1)\n",
    "print(np.floor(Z))\n",
    "print(np.ceil(Z)-1)\n",
    "print(Z.astype(int))\n",
    "print(np.trunc(Z))"
   ]
  },
  {
   "cell_type": "markdown",
   "metadata": {},
   "source": [
    "#### 37. Create a 5x5 matrix with row values ranging from 0 to 4 (★★☆)"
   ]
  },
  {
   "cell_type": "code",
   "execution_count": 246,
   "metadata": {},
   "outputs": [
    {
     "name": "stdout",
     "output_type": "stream",
     "text": [
      "[[0 1 2 3 4]\n",
      " [0 1 2 3 4]\n",
      " [0 1 2 3 4]\n",
      " [0 1 2 3 4]\n",
      " [0 1 2 3 4]]\n"
     ]
    }
   ],
   "source": [
    "# Z = np.zeros((5,5))\n",
    "# Z += np.arange(5)\n",
    "# print(Z)\n",
    "\n",
    "Z = np.array([0,1,2,3,4] * 5).reshape(5,5)\n",
    "print(Z)"
   ]
  },
  {
   "cell_type": "code",
   "execution_count": 247,
   "metadata": {},
   "outputs": [
    {
     "name": "stdout",
     "output_type": "stream",
     "text": [
      "[[0 0 0 0 0]\n",
      " [1 1 1 1 1]\n",
      " [2 2 2 2 2]\n",
      " [3 3 3 3 3]\n",
      " [4 4 4 4 4]]\n"
     ]
    }
   ],
   "source": [
    "# Create a 5x5 matrix with column values ranging from 0 to 4\n",
    "Z = []\n",
    "for i in range(5):\n",
    "    Z.append([i,i,i,i,i])\n",
    "    i += 1\n",
    "Z = np.array(Z).reshape(5,5)\n",
    "print(Z)"
   ]
  },
  {
   "cell_type": "code",
   "execution_count": 249,
   "metadata": {},
   "outputs": [
    {
     "name": "stdout",
     "output_type": "stream",
     "text": [
      "[[ 1.  2.  3.  4.  5.]\n",
      " [17. 18. 19. 20.  6.]\n",
      " [15. 25. 26. 21.  7.]\n",
      " [14. 24. 23. 22.  8.]\n",
      " [13. 12. 11. 10.  9.]]\n"
     ]
    }
   ],
   "source": [
    "# 蛇形矩阵\n",
    "\n",
    "import numpy as np\n",
    "num = 5\n",
    "k = 1\n",
    "a = np.zeros((num, num))\n",
    "for i in range(num//2):\n",
    "    \n",
    "    j1 = i\n",
    "    for j1 in range(num-i):   # 遍历最上面一行\n",
    "        a[i][j1] = k\n",
    "        k += 1\n",
    "        \n",
    "    j2 = i+1\n",
    "    while j2 <num-i:   # 遍历最右边一列\n",
    "        a[j2][num-i-1] = k\n",
    "        k += 1\n",
    "        j2 += 1\n",
    "        \n",
    "    j3 = num-2-i\n",
    "    while j3>=i:    # 遍历最下面一行\n",
    "        a[num-i-1][j3] = k\n",
    "        k += 1\n",
    "        j3 -= 1\n",
    "        \n",
    "    j4 = num-i-2\n",
    "    while j4>i:    # 遍历最左边一列\n",
    "        a[j4][i] = k\n",
    "        k += 1\n",
    "        j4 -= 1\n",
    "    \n",
    "if num%2 == 1:   # 如果输入的数是奇数\n",
    "    a[num//2][num//2] = k  # 为最后一个数赋值\n",
    "    \n",
    "print(a)\n",
    "\n",
    "# 参考: java代码 https://zhengyunfei.iteye.com/blog/1071009"
   ]
  },
  {
   "cell_type": "markdown",
   "metadata": {},
   "source": [
    "#### 38. Consider a generator function that generates 10 integers and use it to build an array (★☆☆)"
   ]
  },
  {
   "cell_type": "code",
   "execution_count": 259,
   "metadata": {},
   "outputs": [
    {
     "name": "stdout",
     "output_type": "stream",
     "text": [
      "0 1 2 3 4 5 6 7 8 9 \n",
      "\n",
      "[0. 1. 2. 3. 4.]\n"
     ]
    }
   ],
   "source": [
    "def getarray():\n",
    "    for x in range(10):\n",
    "        yield x\n",
    "        \n",
    "for i in getarray():\n",
    "    print(i, end=' ')\n",
    "\n",
    "print('\\n')\n",
    "\n",
    "Z = np.fromiter(getarray(), dtype=float, count=5) # count=-1 means all data will be read\n",
    "print(Z)"
   ]
  },
  {
   "cell_type": "markdown",
   "metadata": {},
   "source": [
    "[numpy.fromiter](https://docs.scipy.org/doc/numpy-1.15.0/reference/generated/numpy.fromiter.html)"
   ]
  },
  {
   "cell_type": "markdown",
   "metadata": {},
   "source": [
    "#### 39. Create a vector of size 10 with values ranging from 0 to 1, both excluded (★★☆)"
   ]
  },
  {
   "cell_type": "code",
   "execution_count": 274,
   "metadata": {},
   "outputs": [
    {
     "name": "stdout",
     "output_type": "stream",
     "text": [
      "[0.090909 0.181818 0.272727 0.363636 0.454545 0.545455 0.636364 0.727273\n",
      " 0.818182 0.909091]\n"
     ]
    }
   ],
   "source": [
    "Z = np.linspace(0, 1, 11, endpoint=False)[1:]\n",
    "print(np.round(Z, 6))"
   ]
  },
  {
   "cell_type": "markdown",
   "metadata": {},
   "source": [
    "#### 40. Create a random vector of size 10 and sort it (★★☆)"
   ]
  },
  {
   "cell_type": "code",
   "execution_count": 281,
   "metadata": {},
   "outputs": [
    {
     "name": "stdout",
     "output_type": "stream",
     "text": [
      "[0.180745 0.31241  0.363328 0.369389 0.566185 0.577285 0.690373 0.822108\n",
      " 0.859497 0.907581]\n"
     ]
    }
   ],
   "source": [
    "Z = np.random.random(10)\n",
    "Z.sort()\n",
    "print(np.round(Z, 6))\n",
    "\n",
    "# Z1 = sorted(Z)\n",
    "# print(np.round(Z1, 6))"
   ]
  },
  {
   "cell_type": "markdown",
   "metadata": {},
   "source": [
    "#### 41. How to sum a small array faster than np.sum? (★★☆)"
   ]
  },
  {
   "cell_type": "code",
   "execution_count": 300,
   "metadata": {},
   "outputs": [
    {
     "name": "stdout",
     "output_type": "stream",
     "text": [
      "1783293664\n",
      "1783293664\n",
      "np.add.reduce: 4.058619 ms\n",
      "np.sum : 7.551621 ms\n"
     ]
    }
   ],
   "source": [
    "import time\n",
    "\n",
    "num = 1000000\n",
    "\n",
    "t1 = time.clock()\n",
    "Z = np.arange(num)\n",
    "print(np.add.reduce(Z))\n",
    "t2 = time.clock()\n",
    "\n",
    "t3 = time.clock()\n",
    "print(np.sum(np.arange(num)))\n",
    "t4 = time.clock()\n",
    "\n",
    "print(\"np.add.reduce: %6f ms\" % ((t2-t1)*1000))\n",
    "print(\"np.sum : %.6f ms\" % ((t4-t3)*1000))"
   ]
  },
  {
   "cell_type": "markdown",
   "metadata": {},
   "source": [
    "#### 42. Consider two random array A and B, check if they are equal (★★☆)"
   ]
  },
  {
   "cell_type": "code",
   "execution_count": 305,
   "metadata": {},
   "outputs": [
    {
     "name": "stdout",
     "output_type": "stream",
     "text": [
      "[1 0 0 0 1]\n",
      "[1 0 0 0 1]\n",
      "True\n",
      "True\n"
     ]
    }
   ],
   "source": [
    "A = np.random.randint(0,2,5)\n",
    "B = np.random.randint(0,2,5)\n",
    "print(A)\n",
    "print(B)\n",
    "\n",
    "equal = np.allclose(A, B)\n",
    "print(equal)\n",
    "\n",
    "equal = np.array_equal(A, B)  # check wether two arrays have the same shape and elements\n",
    "print(equal)"
   ]
  },
  {
   "cell_type": "markdown",
   "metadata": {},
   "source": [
    "#### 43. Make an array immutable (read-only) (★★☆)"
   ]
  },
  {
   "cell_type": "code",
   "execution_count": 318,
   "metadata": {},
   "outputs": [
    {
     "name": "stdout",
     "output_type": "stream",
     "text": [
      "[[7 7 7]\n",
      " [7 7 7]\n",
      " [7 7 7]]\n"
     ]
    }
   ],
   "source": [
    "Z = np.full((3,3), 7)\n",
    "Z.flags.writeable = False\n",
    "# Z[0][0] = 1\n",
    "print(Z)"
   ]
  },
  {
   "cell_type": "markdown",
   "metadata": {},
   "source": [
    "[numpy.ndarray.flags](https://docs.scipy.org/doc/numpy-1.9.2/reference/generated/numpy.ndarray.flags.html)"
   ]
  },
  {
   "cell_type": "markdown",
   "metadata": {},
   "source": [
    "#### 44. Consider a random 10x2 matrix representing cartesian coordinates, convert them to polar coordinates (★★☆)"
   ]
  },
  {
   "cell_type": "code",
   "execution_count": 319,
   "metadata": {},
   "outputs": [
    {
     "name": "stdout",
     "output_type": "stream",
     "text": [
      "[0.8754127  0.39886828 0.80558727 1.09289333 0.42589522 1.20869339\n",
      " 1.01143853 0.25932679 0.91065904 0.24787219]\n",
      "[1.01137669 0.0390338  1.17567285 1.1084264  1.5315764  0.93807438\n",
      " 1.00097331 0.34686336 0.40242009 0.3588207 ]\n"
     ]
    }
   ],
   "source": [
    "Z = np.random.random((10, 2))\n",
    "X, Y = Z[:,0], Z[:, 1]\n",
    "R = np.sqrt(X**2+Y**2)\n",
    "T = np.arctan2(Y, X)\n",
    "print(R)\n",
    "print(T)"
   ]
  },
  {
   "cell_type": "markdown",
   "metadata": {},
   "source": [
    "[Python conversion between coordinates](https://stackoverflow.com/questions/20924085/python-conversion-between-coordinates)"
   ]
  },
  {
   "cell_type": "markdown",
   "metadata": {},
   "source": [
    "#### 45. Create random vector of size 10 and replace the maximum value by 0 (★★☆)"
   ]
  },
  {
   "cell_type": "code",
   "execution_count": 322,
   "metadata": {},
   "outputs": [
    {
     "name": "stdout",
     "output_type": "stream",
     "text": [
      "[4, 10, 14, 15, 21, 50, 72, 73, 76, 87]\n",
      "[0, 4, 10, 14, 15, 21, 50, 72, 73, 76]\n"
     ]
    }
   ],
   "source": [
    "Z = np.random.randint(1,100,10)\n",
    "print(sorted(Z))\n",
    "Z[Z.argmax()] = 0\n",
    "print(sorted(Z))"
   ]
  },
  {
   "cell_type": "markdown",
   "metadata": {},
   "source": [
    "#### 46. Create a structured array with `x` and `y` coordinates covering the \\[0,1\\]x\\[0,1\\] area (★★☆)"
   ]
  },
  {
   "cell_type": "code",
   "execution_count": 330,
   "metadata": {},
   "outputs": [
    {
     "name": "stdout",
     "output_type": "stream",
     "text": [
      "[[(0.  , 1.  ) (0.25, 1.  ) (0.5 , 1.  ) (0.75, 1.  ) (1.  , 1.  )]\n",
      " [(0.  , 0.75) (0.25, 0.75) (0.5 , 0.75) (0.75, 0.75) (1.  , 0.75)]\n",
      " [(0.  , 0.5 ) (0.25, 0.5 ) (0.5 , 0.5 ) (0.75, 0.5 ) (1.  , 0.5 )]\n",
      " [(0.  , 0.25) (0.25, 0.25) (0.5 , 0.25) (0.75, 0.25) (1.  , 0.25)]\n",
      " [(0.  , 0.  ) (0.25, 0.  ) (0.5 , 0.  ) (0.75, 0.  ) (1.  , 0.  )]]\n"
     ]
    }
   ],
   "source": [
    "Z = np.zeros((5,5), dtype=[('x', float), ('y', float)])\n",
    "Z['x'], Z['y'] = np.meshgrid(np.linspace(0,1,5),\n",
    "                             np.linspace(1,0,5))   # np.linspace(0,1,5)\n",
    "print(Z)"
   ]
  },
  {
   "cell_type": "markdown",
   "metadata": {},
   "source": [
    "####  47. Given two arrays, X and Y, construct the Cauchy matrix C (Cij =1/(xi - yj))"
   ]
  },
  {
   "cell_type": "code",
   "execution_count": 347,
   "metadata": {},
   "outputs": [
    {
     "name": "stdout",
     "output_type": "stream",
     "text": [
      "[0 1 2 3 4] \n",
      "\n",
      "[0.5 1.5 2.5 3.5 4.5] \n",
      "\n",
      "[[ 2.    -2.    -0.667 -0.4   -0.286]\n",
      " [ 0.667  2.    -2.    -0.667 -0.4  ]\n",
      " [ 0.4    0.667  2.    -2.    -0.667]\n",
      " [ 0.286  0.4    0.667  2.    -2.   ]\n",
      " [ 0.222  0.286  0.4    0.667  2.   ]] \n",
      "\n",
      "131.91659501325745\n"
     ]
    }
   ],
   "source": [
    "X = np.arange(5)\n",
    "Y = X + 0.5\n",
    "C = 1.0 / np.subtract.outer(Y, X)\n",
    "print(X,'\\n')\n",
    "print(Y,'\\n')\n",
    "print(np.round(C,3),'\\n')\n",
    "print(np.linalg.det(C))"
   ]
  },
  {
   "cell_type": "markdown",
   "metadata": {},
   "source": [
    "[numpy.ufunc.outer](https://docs.scipy.org/doc/numpy-1.15.0/reference/generated/numpy.ufunc.outer.html)   \n",
    "[Cauthy matrix](https://en.wikipedia.org/wiki/Cauchy_matrix)"
   ]
  },
  {
   "cell_type": "markdown",
   "metadata": {},
   "source": [
    "#### 48. Print the minimum and maximum representable value for each numpy scalar type (★★☆)"
   ]
  },
  {
   "cell_type": "code",
   "execution_count": 354,
   "metadata": {},
   "outputs": [
    {
     "name": "stdout",
     "output_type": "stream",
     "text": [
      "min  <class 'numpy.int8'> :  -128\n",
      "max  <class 'numpy.int8'> :  127\n",
      "min  <class 'numpy.int32'> :  -2147483648\n",
      "max  <class 'numpy.int32'> :  2147483647\n",
      "min  <class 'numpy.int64'> :  -9223372036854775808\n",
      "max  <class 'numpy.int64'> :  9223372036854775807\n",
      "min  <class 'numpy.float32'> :  -3.4028235e+38\n",
      "max  <class 'numpy.float32'> :  3.4028235e+38\n",
      "eps  <class 'numpy.float32'> :  1.1920929e-07\n",
      "min  <class 'numpy.float64'> :  -1.7976931348623157e+308\n",
      "max  <class 'numpy.float64'> :  1.7976931348623157e+308\n",
      "eps  <class 'numpy.float64'> :  2.220446049250313e-16\n"
     ]
    }
   ],
   "source": [
    "for dtype in [np.int8, np.int32, np.int64]:\n",
    "    print('min ',str(dtype), ': ',np.iinfo(dtype).min)\n",
    "    print('max ',str(dtype), ': ',np.iinfo(dtype).max)\n",
    "for dtype in [np.float32, np.float64]:\n",
    "    print('min ',str(dtype),': ',np.finfo(dtype).min)\n",
    "    print('max ',str(dtype),': ',np.finfo(dtype).max)\n",
    "    print('eps ',str(dtype),': ',np.finfo(dtype).eps)  # The smallest representable positive number"
   ]
  },
  {
   "cell_type": "markdown",
   "metadata": {},
   "source": [
    "[numpy.finfo](https://docs.scipy.org/doc/numpy/reference/generated/numpy.finfo.html)"
   ]
  },
  {
   "cell_type": "markdown",
   "metadata": {},
   "source": [
    "#### 49. How to print all the values of an array? (★★☆)"
   ]
  },
  {
   "cell_type": "code",
   "execution_count": 370,
   "metadata": {},
   "outputs": [
    {
     "name": "stdout",
     "output_type": "stream",
     "text": [
      "[[0. 0. 0. 0. 0. 0. 0. 0. 0. 0.]\n",
      " [0. 0. 0. 0. 0. 0. 0. 0. 0. 0.]\n",
      " [0. 0. 0. 0. 0. 0. 0. 0. 0. 0.]\n",
      " [0. 0. 0. 0. 0. 0. 0. 0. 0. 0.]\n",
      " [0. 0. 0. 0. 0. 0. 0. 0. 0. 0.]\n",
      " [0. 0. 0. 0. 0. 0. 0. 0. 0. 0.]\n",
      " [0. 0. 0. 0. 0. 0. 0. 0. 0. 0.]\n",
      " [0. 0. 0. 0. 0. 0. 0. 0. 0. 0.]\n",
      " [0. 0. 0. 0. 0. 0. 0. 0. 0. 0.]\n",
      " [0. 0. 0. 0. 0. 0. 0. 0. 0. 0.]]\n"
     ]
    }
   ],
   "source": [
    "np.set_printoptions(threshold=np.inf)   # threshold = np.inf   # threshold = np.nan\n",
    "Z = np.zeros((10,10))   \n",
    "print(Z)   # 完全打印"
   ]
  },
  {
   "cell_type": "markdown",
   "metadata": {},
   "source": [
    "[numpy.set_printoptions](https://docs.scipy.org/doc/numpy-1.13.0/reference/generated/numpy.set_printoptions.html)   \n",
    "[How to print the full NumPy array, without truncation?](https://stackoverflow.com/questions/1987694/how-to-print-the-full-numpy-array-without-truncation)"
   ]
  },
  {
   "cell_type": "markdown",
   "metadata": {},
   "source": [
    "#### 50. How to find the closest value (to a given scalar) in a vector? (★★☆)"
   ]
  },
  {
   "cell_type": "code",
   "execution_count": 395,
   "metadata": {},
   "outputs": [
    {
     "name": "stdout",
     "output_type": "stream",
     "text": [
      "[3, 4, 5, 6, 8, 9, 10, 14, 16, 17]\n",
      "8.589152766840167\n",
      "9\n"
     ]
    }
   ],
   "source": [
    "Z = np.random.choice(20, 10, replace=False)   # 不放回抽取\n",
    "v = np.random.uniform(0, 20)\n",
    "index = (np.abs(Z-v)).argmin()\n",
    "print(sorted(Z))\n",
    "print(v)\n",
    "print(Z[index])"
   ]
  },
  {
   "cell_type": "markdown",
   "metadata": {},
   "source": [
    "[np.random.choice的用法](https://blog.csdn.net/qfpkzheng/article/details/79061601)   \n",
    "[numpy.random.random_integers](https://docs.scipy.org/doc/numpy-1.15.1/reference/generated/numpy.random.random_integers.html#numpy.random.random_integers)   \n",
    "[numpy.random.choice](https://docs.scipy.org/doc/numpy-1.14.1/reference/generated/numpy.random.choice.html)   \n"
   ]
  },
  {
   "cell_type": "markdown",
   "metadata": {},
   "source": [
    "#### 51. Create a structured array representing a position (x,y) and a color (r,g,b) (★★☆)"
   ]
  },
  {
   "cell_type": "code",
   "execution_count": 397,
   "metadata": {},
   "outputs": [
    {
     "name": "stdout",
     "output_type": "stream",
     "text": [
      "[((0., 0.), (0., 0., 0.)) ((0., 0.), (0., 0., 0.))\n",
      " ((0., 0.), (0., 0., 0.)) ((0., 0.), (0., 0., 0.))\n",
      " ((0., 0.), (0., 0., 0.)) ((0., 0.), (0., 0., 0.))\n",
      " ((0., 0.), (0., 0., 0.)) ((0., 0.), (0., 0., 0.))\n",
      " ((0., 0.), (0., 0., 0.)) ((0., 0.), (0., 0., 0.))]\n"
     ]
    }
   ],
   "source": [
    "Z = np.zeros(10, [('position', [('x', float, 1),\n",
    "                                ('y', float, 1)]),\n",
    "                  ('color', [('r', float, 1),\n",
    "                             ('g', float, 1),\n",
    "                             ('b', float, 1)])])\n",
    "print(Z)"
   ]
  },
  {
   "cell_type": "markdown",
   "metadata": {},
   "source": [
    "#### 52. Consider a random vector with shape (100,2) representing coordinates, find point by point distances (★★☆)"
   ]
  },
  {
   "cell_type": "code",
   "execution_count": 404,
   "metadata": {},
   "outputs": [
    {
     "name": "stdout",
     "output_type": "stream",
     "text": [
      "(10, 2)\n",
      "(10, 10)\n"
     ]
    }
   ],
   "source": [
    "Z = np.random.random((10,2))\n",
    "X,Y = np.atleast_2d(Z[:,0], Z[:,1])\n",
    "D = np.sqrt( (X-X.T)**2 + (Y-Y.T)**2)\n",
    "# print(D)\n",
    "\n",
    "\n",
    "import scipy\n",
    "import scipy.spatial\n",
    "\n",
    "Z = np.random.random((10,2))\n",
    "D =scipy.spatial.distance.cdist(Z, Z)\n",
    "# print(Z)\n",
    "print(Z.shape)\n",
    "# print(D)\n",
    "print(D.shape)\n"
   ]
  },
  {
   "cell_type": "markdown",
   "metadata": {},
   "source": [
    "[scipy.spatial.distance.cdist — SciPy v1.2.0 Reference Guide](https://docs.scipy.org/doc/scipy/reference/generated/scipy.spatial.distance.cdist.html)"
   ]
  },
  {
   "cell_type": "markdown",
   "metadata": {},
   "source": [
    "#### 53. How to convert a float (32 bits) array into an integer (32 bits) in place?"
   ]
  },
  {
   "cell_type": "code",
   "execution_count": 431,
   "metadata": {},
   "outputs": [
    {
     "name": "stdout",
     "output_type": "stream",
     "text": [
      "[6.3595063  1.85152725 6.3967086  6.05745732 3.0663687  2.76335685\n",
      " 7.15813301 0.54889798 9.75545551 4.99742413]\n",
      "<class 'numpy.float64'> <class 'numpy.int32'>\n",
      "2275173883376 2275173883056\n"
     ]
    }
   ],
   "source": [
    "Z = np.random.uniform(0,10,10)\n",
    "Z1 = Z.astype(np.int32, copy=False)\n",
    "print(Z)\n",
    "# print(type(Z[0]), type(Z1[0]))\n",
    "# print(id(Z), id(Z1))"
   ]
  },
  {
   "cell_type": "markdown",
   "metadata": {},
   "source": [
    "[numpy.ndarray.astype](https://docs.scipy.org/doc/numpy-1.14.5/reference/generated/numpy.ndarray.astype.html)   \n",
    "[confused about the `copy` attribution of `numpy.astype`](https://stackoverflow.com/questions/47426375/confused-about-the-copy-attribution-of-numpy-astype#)"
   ]
  },
  {
   "cell_type": "code",
   "execution_count": 445,
   "metadata": {},
   "outputs": [
    {
     "name": "stdout",
     "output_type": "stream",
     "text": [
      "2275208042416\n",
      "2275208042416\n",
      "2275207844128\n"
     ]
    }
   ],
   "source": [
    "x= np.array([0, 1, 2, 3, 4, 5, 6, 7, 8, 9])\n",
    "y = x.astype(int,copy=False)\n",
    "z = x.astype(int)\n",
    "print(id(x),id(y),id(z),sep='\\n')"
   ]
  },
  {
   "cell_type": "markdown",
   "metadata": {},
   "source": [
    "[Built-in Funtions print](https://docs.python.org/3/library/functions.html#print)"
   ]
  },
  {
   "cell_type": "markdown",
   "metadata": {},
   "source": [
    "#### 54. How to read the following file? (★★☆)"
   ]
  },
  {
   "cell_type": "markdown",
   "metadata": {},
   "source": [
    "```\n",
    "1, 2, 3, 4, 5\n",
    "6,  ,  , 7, 8\n",
    " ,  , 9,10,11\n",
    "```"
   ]
  },
  {
   "cell_type": "code",
   "execution_count": 453,
   "metadata": {},
   "outputs": [
    {
     "name": "stdout",
     "output_type": "stream",
     "text": [
      "[[ 1  2  3  4  5]\n",
      " [ 6 -1 -1  7  8]\n",
      " [-1 -1  9 10 11]]\n"
     ]
    }
   ],
   "source": [
    "from io import StringIO\n",
    "\n",
    "s = StringIO('''1, 2, 3, 4, 5\\n\n",
    "                6,  ,  , 7, 8\\n\n",
    "                 ,  , 9,10,11\\n''')\n",
    "\n",
    "Z = np.genfromtxt(s, delimiter=\",\", dtype=np.int)\n",
    "print(Z)"
   ]
  },
  {
   "cell_type": "markdown",
   "metadata": {},
   "source": [
    "#### 55. What is the equivalent of enumerate for numpy arrays? (★★☆)"
   ]
  },
  {
   "cell_type": "code",
   "execution_count": 462,
   "metadata": {},
   "outputs": [
    {
     "name": "stdout",
     "output_type": "stream",
     "text": [
      "(0, 0) 0, (0, 1) 1, (0, 2) 2, (1, 0) 3, (1, 1) 4, (1, 2) 5, (2, 0) 6, (2, 1) 7, (2, 2) 8, \n",
      "(0, 0) 0, (0, 1) 1, (0, 2) 2, (1, 0) 3, (1, 1) 4, (1, 2) 5, (2, 0) 6, (2, 1) 7, (2, 2) 8, "
     ]
    }
   ],
   "source": [
    "Z = np.arange(9).reshape(3,3)\n",
    "for index, value in np.ndenumerate(Z):\n",
    "    print(index, value, end=', ')\n",
    "print('')\n",
    "for index in np.ndindex(Z.shape):\n",
    "    print(index, Z[index], end=', ')"
   ]
  },
  {
   "cell_type": "markdown",
   "metadata": {},
   "source": [
    "#### 56. Generate a generic 2D Gaussian-like array (★★☆)"
   ]
  },
  {
   "cell_type": "code",
   "execution_count": 465,
   "metadata": {},
   "outputs": [
    {
     "name": "stdout",
     "output_type": "stream",
     "text": [
      "[[0.36787944 0.44822088 0.51979489 0.57375342 0.60279818 0.60279818\n",
      "  0.57375342 0.51979489 0.44822088 0.36787944]\n",
      " [0.44822088 0.54610814 0.63331324 0.69905581 0.73444367 0.73444367\n",
      "  0.69905581 0.63331324 0.54610814 0.44822088]\n",
      " [0.51979489 0.63331324 0.73444367 0.81068432 0.85172308 0.85172308\n",
      "  0.81068432 0.73444367 0.63331324 0.51979489]\n",
      " [0.57375342 0.69905581 0.81068432 0.89483932 0.9401382  0.9401382\n",
      "  0.89483932 0.81068432 0.69905581 0.57375342]\n",
      " [0.60279818 0.73444367 0.85172308 0.9401382  0.98773022 0.98773022\n",
      "  0.9401382  0.85172308 0.73444367 0.60279818]\n",
      " [0.60279818 0.73444367 0.85172308 0.9401382  0.98773022 0.98773022\n",
      "  0.9401382  0.85172308 0.73444367 0.60279818]\n",
      " [0.57375342 0.69905581 0.81068432 0.89483932 0.9401382  0.9401382\n",
      "  0.89483932 0.81068432 0.69905581 0.57375342]\n",
      " [0.51979489 0.63331324 0.73444367 0.81068432 0.85172308 0.85172308\n",
      "  0.81068432 0.73444367 0.63331324 0.51979489]\n",
      " [0.44822088 0.54610814 0.63331324 0.69905581 0.73444367 0.73444367\n",
      "  0.69905581 0.63331324 0.54610814 0.44822088]\n",
      " [0.36787944 0.44822088 0.51979489 0.57375342 0.60279818 0.60279818\n",
      "  0.57375342 0.51979489 0.44822088 0.36787944]]\n"
     ]
    }
   ],
   "source": [
    "X, Y = np.meshgrid(np.linspace(-1,1,10), np.linspace(-1,1,10))\n",
    "D = np.sqrt(X*X+Y*Y)\n",
    "sigma, mu = 1.0, 0.0\n",
    "G = np.exp(-( (D-mu)**2 / (2.0 * sigma**2)))\n",
    "print(G)"
   ]
  },
  {
   "cell_type": "markdown",
   "metadata": {},
   "source": [
    "#### 57. How to randomly place p elements in a 2D array? (★★☆)"
   ]
  },
  {
   "cell_type": "code",
   "execution_count": 466,
   "metadata": {},
   "outputs": [
    {
     "name": "stdout",
     "output_type": "stream",
     "text": [
      "[[1. 0. 0. 0. 0. 0. 0. 0. 0. 0.]\n",
      " [0. 0. 0. 0. 0. 0. 0. 0. 0. 0.]\n",
      " [0. 0. 0. 0. 0. 0. 0. 1. 0. 0.]\n",
      " [0. 0. 0. 0. 0. 0. 0. 0. 0. 0.]\n",
      " [0. 0. 0. 0. 0. 0. 0. 0. 0. 0.]\n",
      " [0. 0. 0. 0. 0. 0. 0. 0. 0. 0.]\n",
      " [0. 0. 0. 0. 0. 0. 0. 0. 0. 0.]\n",
      " [0. 0. 0. 0. 0. 0. 0. 0. 0. 1.]\n",
      " [0. 0. 0. 0. 0. 0. 0. 0. 0. 0.]\n",
      " [0. 0. 0. 0. 0. 0. 0. 0. 0. 0.]]\n"
     ]
    }
   ],
   "source": [
    "n = 10\n",
    "p = 3\n",
    "Z = np.zeros((n,n))\n",
    "np.put(Z, np.random.choice(range(n*n), p, replace=False), 1)  # 不放回抽样\n",
    "print(Z)"
   ]
  },
  {
   "cell_type": "markdown",
   "metadata": {},
   "source": [
    "[np.put](https://het.as.utexas.edu/HET/Software/Numpy/reference/generated/numpy.put.html)   \n",
    "[numpy.random.choice — NumPy v1.16 Manual](https://docs.scipy.org/doc/numpy/reference/generated/numpy.random.choice.html)"
   ]
  },
  {
   "cell_type": "code",
   "execution_count": 468,
   "metadata": {},
   "outputs": [
    {
     "name": "stdout",
     "output_type": "stream",
     "text": [
      "[ 0  1  2  3 -5]\n"
     ]
    }
   ],
   "source": [
    "a = np.arange(5)\n",
    "np.put(a, 22, -5, mode='clip')\n",
    "print(a)\n",
    "\n",
    "#‘clip’ mode means that all indices that are too large are replaced by the \n",
    "# index that addresses the last element along that axis."
   ]
  },
  {
   "cell_type": "markdown",
   "metadata": {},
   "source": [
    "#### 58. Subtract the mean of each row of a matrix (★★☆)"
   ]
  },
  {
   "cell_type": "code",
   "execution_count": 475,
   "metadata": {},
   "outputs": [
    {
     "name": "stdout",
     "output_type": "stream",
     "text": [
      "[[ 0  1  2]\n",
      " [ 3  4  5]\n",
      " [ 6  7  8]\n",
      " [ 9 10 11]\n",
      " [12 13 14]] \n",
      "\n",
      "[[-1.  0.  1.]\n",
      " [-1.  0.  1.]\n",
      " [-1.  0.  1.]\n",
      " [-1.  0.  1.]\n",
      " [-1.  0.  1.]]\n"
     ]
    }
   ],
   "source": [
    "X = np.arange(15).reshape(5,3)\n",
    "Y = X - X.mean(axis=1, keepdims=True)\n",
    "print(X, '\\n')\n",
    "print(Y)"
   ]
  },
  {
   "cell_type": "markdown",
   "metadata": {},
   "source": [
    "#### 59. How to sort an array by the nth column? (★★☆)"
   ]
  },
  {
   "cell_type": "code",
   "execution_count": 479,
   "metadata": {},
   "outputs": [
    {
     "name": "stdout",
     "output_type": "stream",
     "text": [
      "[[8 2 3]\n",
      " [2 1 8]\n",
      " [6 9 9]] \n",
      "\n",
      "[[2 1 8]\n",
      " [8 2 3]\n",
      " [6 9 9]]\n"
     ]
    }
   ],
   "source": [
    "Z = np.random.randint(0, 10, (3,3))\n",
    "print(Z, '\\n')\n",
    "print(Z[Z[:,1].argsort()])"
   ]
  },
  {
   "cell_type": "markdown",
   "metadata": {},
   "source": [
    "#### 60. How to tell if a given 2D array has null columns? (★★☆)"
   ]
  },
  {
   "cell_type": "code",
   "execution_count": 484,
   "metadata": {},
   "outputs": [
    {
     "name": "stdout",
     "output_type": "stream",
     "text": [
      "[[1 0 1 1 2 2 0 0 0 0]\n",
      " [0 2 2 0 0 2 0 1 2 0]\n",
      " [2 2 0 0 1 1 0 1 2 0]]\n",
      "True\n"
     ]
    }
   ],
   "source": [
    "Z = np.random.randint(0, 3, (3,10))\n",
    "print(Z)\n",
    "print((~Z.any(axis=0)).any())"
   ]
  },
  {
   "cell_type": "markdown",
   "metadata": {},
   "source": [
    "#### 61. Find the nearest value from a given value in an array (★★☆)"
   ]
  },
  {
   "cell_type": "code",
   "execution_count": 487,
   "metadata": {},
   "outputs": [
    {
     "name": "stdout",
     "output_type": "stream",
     "text": [
      "[0.31224065 0.32415079 0.55010346 0.438029   0.80310143 0.16017206\n",
      " 0.8190012  0.69259094 0.63538446 0.27845826]\n",
      "0.5501034586398474\n"
     ]
    }
   ],
   "source": [
    "Z = np.random.uniform(0, 1, 10)\n",
    "z = 0.5\n",
    "m = Z.flat[np.abs(Z - z).argmin()]\n",
    "print(Z)\n",
    "print(m)"
   ]
  },
  {
   "cell_type": "markdown",
   "metadata": {},
   "source": [
    "[NumPy（2）reshape，dot，flat](https://www.jianshu.com/p/949b1f8750a9)"
   ]
  },
  {
   "cell_type": "markdown",
   "metadata": {},
   "source": [
    "#### 62. Considering two arrays with shape (1,3) and (3,1), how to compute their sum using an iterator? (★★☆)"
   ]
  },
  {
   "cell_type": "code",
   "execution_count": 494,
   "metadata": {},
   "outputs": [
    {
     "name": "stdout",
     "output_type": "stream",
     "text": [
      "[[0]\n",
      " [1]\n",
      " [2]] \n",
      "\n",
      "[[0 1 2]] \n",
      "\n",
      "[[0 1 2]\n",
      " [1 2 3]\n",
      " [2 3 4]]\n"
     ]
    }
   ],
   "source": [
    "A = np.arange(3).reshape(3,1)\n",
    "B = np.arange(3).reshape(1,3)\n",
    "it = np.nditer([A,B,None])\n",
    "for x,y,z in it: z[...] = x + y\n",
    "print(A,'\\n')\n",
    "print(B,'\\n')\n",
    "print(it.operands[2])"
   ]
  },
  {
   "cell_type": "markdown",
   "metadata": {},
   "source": [
    "[NumPy 中文文档 迭代数组](https://www.numpy.org.cn/reference/array_objects/iterating_bver_arrays.html)"
   ]
  },
  {
   "cell_type": "code",
   "execution_count": 495,
   "metadata": {},
   "outputs": [
    {
     "data": {
      "text/plain": [
       "array([1, 4, 9])"
      ]
     },
     "execution_count": 495,
     "metadata": {},
     "output_type": "execute_result"
    }
   ],
   "source": [
    "def square(a):\n",
    "    it = np.nditer([a, None])\n",
    "    for x, y in it:\n",
    "        y[...] = x*x\n",
    "    return it.operands[1]\n",
    "\n",
    "square([1,2,3])"
   ]
  },
  {
   "cell_type": "markdown",
   "metadata": {},
   "source": [
    "#### 63. Create an array class that has a name attribute (★★☆)"
   ]
  },
  {
   "cell_type": "code",
   "execution_count": 500,
   "metadata": {},
   "outputs": [
    {
     "name": "stdout",
     "output_type": "stream",
     "text": [
      "range_10\n"
     ]
    }
   ],
   "source": [
    "class NamedArray(np.ndarray):\n",
    "    def __new__(cls, array, name=\"no name\"):\n",
    "        obj = np.asarray(array).view(cls)\n",
    "        obj.name = name\n",
    "        return obj\n",
    "    def __array_finalize__(self, obj):\n",
    "        if obj is None: return\n",
    "        self.info = getattr(obj, 'name', \"no name\")\n",
    "\n",
    "Z = NamedArray(np.arange(10), \"range_10\")\n",
    "print(Z.name)"
   ]
  },
  {
   "cell_type": "markdown",
   "metadata": {},
   "source": [
    "#### 64. Consider a given vector, how to add 1 to each element indexed by a second vector (be careful with repeated indices)? (★★★)"
   ]
  },
  {
   "cell_type": "code",
   "execution_count": 508,
   "metadata": {},
   "outputs": [
    {
     "name": "stdout",
     "output_type": "stream",
     "text": [
      "[1. 1. 1. 1. 1. 1. 1. 1. 1. 1.] \n",
      "\n",
      "[4 4 3 3 4 8 6 7 0 4 5 7 2 1 9 7 3 9 9 4] \n",
      "\n",
      "[2. 2. 2. 4. 6. 2. 2. 4. 2. 4.]\n"
     ]
    }
   ],
   "source": [
    "# 方法一\n",
    "# Z = np.ones(10)\n",
    "# print(Z, '\\n')\n",
    "# I = np.random.randint(0, len(Z), 20)\n",
    "# Z += np.bincount(I, minlength=len(Z))\n",
    "# print(I, '\\n')\n",
    "# print(Z, '\\n')\n",
    "\n",
    "# np.add.at(Z, I, 1)\n",
    "# print(Z)\n",
    "\n",
    "# 方法二\n",
    "Z = np.ones(10)\n",
    "I = np.random.randint(0, len(Z), 20)\n",
    "print(Z,'\\n')\n",
    "print(I,'\\n')\n",
    "for i in I:\n",
    "    Z[i] += 1\n",
    "print(Z)"
   ]
  },
  {
   "cell_type": "markdown",
   "metadata": {},
   "source": [
    "[numpy.bincount — NumPy v1.15 Manual](https://docs.scipy.org/doc/numpy-1.15.0/reference/generated/numpy.bincount.html)"
   ]
  },
  {
   "cell_type": "markdown",
   "metadata": {},
   "source": [
    "#### 65. How to accumulate elements of a vector (X) to an array (F) based on an index list (I)? (★★★)"
   ]
  },
  {
   "cell_type": "code",
   "execution_count": 510,
   "metadata": {},
   "outputs": [
    {
     "name": "stdout",
     "output_type": "stream",
     "text": [
      "[0. 7. 0. 6. 5. 0. 0. 0. 0. 3.]\n"
     ]
    }
   ],
   "source": [
    "I = [1,3,9,3,4,1]\n",
    "X = [1,2,3,4,5,6]\n",
    "F = np.bincount(I,X)\n",
    "print(F)"
   ]
  },
  {
   "cell_type": "markdown",
   "metadata": {},
   "source": [
    "#### 66. Considering a (w,h,3) image of (dtype=ubyte), compute the number of unique colors (★★★)"
   ]
  },
  {
   "cell_type": "code",
   "execution_count": 511,
   "metadata": {},
   "outputs": [
    {
     "name": "stdout",
     "output_type": "stream",
     "text": [
      "8\n"
     ]
    }
   ],
   "source": [
    "w,h = 16,16\n",
    "I = np.random.randint(0,2,(h,w,3)).astype(np.ubyte)\n",
    "#Note that we should compute 256*256 first. \n",
    "#Otherwise numpy will only promote F.dtype to 'uint16' and overfolw will occur\n",
    "F = I[...,0]*(256*256) + I[...,1]*256 + I[...,2]\n",
    "n = len(np.unique(F))\n",
    "print(n)"
   ]
  },
  {
   "cell_type": "markdown",
   "metadata": {},
   "source": [
    "#### 67. Considering a four dimensions array, how to get sum over the last two axis at once? (★★★)"
   ]
  },
  {
   "cell_type": "code",
   "execution_count": 521,
   "metadata": {},
   "outputs": [
    {
     "name": "stdout",
     "output_type": "stream",
     "text": [
      "[[[[ 0  1]\n",
      "   [ 2  3]]\n",
      "\n",
      "  [[ 4  5]\n",
      "   [ 6  7]]]\n",
      "\n",
      "\n",
      " [[[ 8  9]\n",
      "   [10 11]]\n",
      "\n",
      "  [[12 13]\n",
      "   [14 15]]]] \n",
      "\n",
      "[[ 6 22]\n",
      " [38 54]] \n",
      "\n",
      "[[[ 0  1  2  3]\n",
      "  [ 4  5  6  7]]\n",
      "\n",
      " [[ 8  9 10 11]\n",
      "  [12 13 14 15]]]\n"
     ]
    }
   ],
   "source": [
    "A = np.arange(16).reshape(2,2,2,2)\n",
    "# solution by passing a tuple of axes (introduced in numpy 1.7.0)\n",
    "sum1 = A.sum(axis=(-2,-1))\n",
    "print(A, '\\n')\n",
    "print(sum1, '\\n')\n",
    "\n",
    "# solution by flattening the last two dimensions into one\n",
    "# (useful for functions that don't accept tuples for axis argument)\n",
    "sum2 = A.reshape(A.shape[:-2] + (-1,))\n",
    "print(sum2)"
   ]
  },
  {
   "cell_type": "code",
   "execution_count": 536,
   "metadata": {},
   "outputs": [
    {
     "name": "stdout",
     "output_type": "stream",
     "text": [
      "A[0][0][0][0] - 0\n",
      "A[0][0][0][1] - 1\n",
      "A[0][0][1][0] - 2\n",
      "A[0][0][1][1] - 3\n",
      "sum = 6 \n",
      "\n",
      "A[0][1][0][0] - 4\n",
      "A[0][1][0][1] - 5\n",
      "A[0][1][1][0] - 6\n",
      "A[0][1][1][1] - 7\n",
      "sum = 22 \n",
      "\n",
      "A[1][0][0][0] - 8\n",
      "A[1][0][0][1] - 9\n",
      "A[1][0][1][0] - 10\n",
      "A[1][0][1][1] - 11\n",
      "sum = 38 \n",
      "\n",
      "A[1][1][0][0] - 12\n",
      "A[1][1][0][1] - 13\n",
      "A[1][1][1][0] - 14\n",
      "A[1][1][1][1] - 15\n",
      "sum = 54 \n",
      "\n"
     ]
    }
   ],
   "source": [
    "print('A[0][0][0][0] -', A[0][0][0][0])\n",
    "print('A[0][0][0][1] -', A[0][0][0][1])\n",
    "print('A[0][0][1][0] -', A[0][0][1][0])\n",
    "print('A[0][0][1][1] -', A[0][0][1][1])\n",
    "print('sum =',A[0][0][0][0] + A[0][0][0][1] + A[0][0][1][0] + A[0][0][1][1],'\\n')\n",
    "print('A[0][1][0][0] -', A[0][1][0][0])\n",
    "print('A[0][1][0][1] -', A[0][1][0][1])\n",
    "print('A[0][1][1][0] -', A[0][1][1][0])\n",
    "print('A[0][1][1][1] -', A[0][1][1][1])\n",
    "print('sum =',A[0][1][0][0] + A[0][1][0][1] + A[0][1][1][0] + A[0][1][1][1],'\\n')\n",
    "print('A[1][0][0][0] -', A[1][0][0][0])\n",
    "print('A[1][0][0][1] -', A[1][0][0][1])\n",
    "print('A[1][0][1][0] -', A[1][0][1][0])\n",
    "print('A[1][0][1][1] -', A[1][0][1][1])\n",
    "print('sum =',A[1][0][0][0] + A[1][0][0][1] + A[1][0][1][0] + A[1][0][1][1],'\\n')\n",
    "print('A[1][1][0][0] -', A[1][1][0][0])\n",
    "print('A[1][1][0][1] -', A[1][1][0][1])\n",
    "print('A[1][1][1][0] -', A[1][1][1][0])\n",
    "print('A[1][1][1][1] -', A[1][1][1][1])\n",
    "print('sum =',A[1][1][0][0] + A[1][1][0][1] + A[1][1][1][0] + A[1][1][1][1],'\\n')"
   ]
  },
  {
   "cell_type": "markdown",
   "metadata": {},
   "source": [
    "#### 68. Considering a one-dimensional vector D, how to compute means of subsets of D using a vector S of same size describing subset  indices? (★★★)"
   ]
  },
  {
   "cell_type": "code",
   "execution_count": 543,
   "metadata": {},
   "outputs": [
    {
     "name": "stdout",
     "output_type": "stream",
     "text": [
      "[0.528652   0.52675798 0.52296159 0.56866386 0.51501399 0.66545416\n",
      " 0.51683368 0.64493156 0.44359621 0.62578081] \n",
      "\n",
      "0    0.528652\n",
      "1    0.526758\n",
      "2    0.522962\n",
      "3    0.568664\n",
      "4    0.515014\n",
      "5    0.665454\n",
      "6    0.516834\n",
      "7    0.644932\n",
      "8    0.443596\n",
      "9    0.625781\n",
      "dtype: float64\n"
     ]
    }
   ],
   "source": [
    "D = np.random.uniform(0,1,100)\n",
    "S = np.random.randint(0, 10, 100)\n",
    "D_sums = np.bincount(S, weights=D)\n",
    "D_counts = np.bincount(S)\n",
    "D_means = D_sums / D_counts\n",
    "# print(D)\n",
    "# print(S)\n",
    "# print(D_sums)\n",
    "# print(D_counts)\n",
    "print(D_means, '\\n')\n",
    "\n",
    "# Pandas solution as a reference due to more intuitive code\n",
    "import pandas as pd\n",
    "print(pd.Series(D).groupby(S).mean())"
   ]
  },
  {
   "cell_type": "markdown",
   "metadata": {},
   "source": [
    "#### 69. How to get the diagonal of a dot product? (★★★)"
   ]
  },
  {
   "cell_type": "code",
   "execution_count": 560,
   "metadata": {},
   "outputs": [
    {
     "name": "stdout",
     "output_type": "stream",
     "text": [
      "[[0 1]\n",
      " [2 3]] \n",
      "\n",
      "[[0 1]\n",
      " [2 3]] \n",
      "\n",
      "[ 2 11]\n"
     ]
    }
   ],
   "source": [
    "A = np.arange(4).reshape(2,2)\n",
    "B = np.arange(4).reshape(2,2)\n",
    "print(A,'\\n')\n",
    "print(B,'\\n')\n",
    "\n",
    "# Slow version\n",
    "print(np.diag(np.dot(A, B)))   # 提取出对角部分\n",
    "\n",
    "# Fast version\n",
    "# print(np.sum(A * B.T, axis=1), '\\n')\n",
    "\n",
    "# Faster version\n",
    "# print(np.einsum(\"ij,ji->i\", A, B), '\\n')"
   ]
  },
  {
   "cell_type": "markdown",
   "metadata": {},
   "source": [
    "[numpy.einsum — NumPy v1.16 Manual](https://docs.scipy.org/doc/numpy/reference/generated/numpy.einsum.html)"
   ]
  },
  {
   "cell_type": "markdown",
   "metadata": {},
   "source": [
    "#### 70. Consider the vector \\[1, 2, 3, 4, 5\\], how to build a new vector with 3 consecutive zeros interleaved between each value? (★★★)"
   ]
  },
  {
   "cell_type": "code",
   "execution_count": 565,
   "metadata": {},
   "outputs": [
    {
     "name": "stdout",
     "output_type": "stream",
     "text": [
      "[1 0 0 0 2 0 0 0 3 0 0 0 4 0 0 0 5 0 0 0]\n"
     ]
    }
   ],
   "source": [
    "# A = np.arange(1,6)\n",
    "# newl = []\n",
    "# for i in A:\n",
    "#     newl.append(i)\n",
    "#     newl.extend([0,0,0])\n",
    "# newl = np.array(newl)\n",
    "# print(newl)\n",
    "\n",
    "Z = np.array([1,2,3,4,5])\n",
    "nz = 3\n",
    "Z0 = np.zeros(len(Z) + (len(Z)-1)*(nz))\n",
    "Z0[::nz+1] = Z\n",
    "print(Z0)"
   ]
  },
  {
   "cell_type": "markdown",
   "metadata": {},
   "source": [
    "#### 71. Consider an array of dimension (5,5,3), how to mulitply it by an array with dimensions (5,5)? (★★★)"
   ]
  },
  {
   "cell_type": "code",
   "execution_count": 570,
   "metadata": {},
   "outputs": [
    {
     "name": "stdout",
     "output_type": "stream",
     "text": [
      "[[[2. 2. 2.]\n",
      "  [2. 2. 2.]\n",
      "  [2. 2. 2.]\n",
      "  [2. 2. 2.]\n",
      "  [2. 2. 2.]]\n",
      "\n",
      " [[2. 2. 2.]\n",
      "  [2. 2. 2.]\n",
      "  [2. 2. 2.]\n",
      "  [2. 2. 2.]\n",
      "  [2. 2. 2.]]\n",
      "\n",
      " [[2. 2. 2.]\n",
      "  [2. 2. 2.]\n",
      "  [2. 2. 2.]\n",
      "  [2. 2. 2.]\n",
      "  [2. 2. 2.]]\n",
      "\n",
      " [[2. 2. 2.]\n",
      "  [2. 2. 2.]\n",
      "  [2. 2. 2.]\n",
      "  [2. 2. 2.]\n",
      "  [2. 2. 2.]]\n",
      "\n",
      " [[2. 2. 2.]\n",
      "  [2. 2. 2.]\n",
      "  [2. 2. 2.]\n",
      "  [2. 2. 2.]\n",
      "  [2. 2. 2.]]]\n"
     ]
    }
   ],
   "source": [
    "A = np.ones((5,5,3))\n",
    "B = 2*np.ones((5,5))\n",
    "print(A * B[:,:,None])"
   ]
  },
  {
   "cell_type": "markdown",
   "metadata": {},
   "source": [
    "#### 72. How to swap two rows of an array? (★★★)"
   ]
  },
  {
   "cell_type": "code",
   "execution_count": 576,
   "metadata": {},
   "outputs": [
    {
     "name": "stdout",
     "output_type": "stream",
     "text": [
      "[[ 0  1  2]\n",
      " [ 3  4  5]\n",
      " [ 6  7  8]\n",
      " [ 9 10 11]\n",
      " [12 13 14]] \n",
      "\n",
      "[[ 0  1  2]\n",
      " [ 6  7  8]\n",
      " [ 3  4  5]\n",
      " [ 9 10 11]\n",
      " [12 13 14]]\n"
     ]
    }
   ],
   "source": [
    "Z = np.arange(15).reshape(5,3)\n",
    "print(Z, '\\n')\n",
    "Z[[1,2]] = Z[[2,1]]\n",
    "print(Z)"
   ]
  },
  {
   "cell_type": "markdown",
   "metadata": {},
   "source": [
    "#### 73. Consider a set of 10 triplets describing 10 triangles (with shared vertices), find the set of unique line segments composing all the  triangles (★★★)"
   ]
  },
  {
   "cell_type": "code",
   "execution_count": 577,
   "metadata": {},
   "outputs": [
    {
     "name": "stdout",
     "output_type": "stream",
     "text": [
      "[( 2, 16) ( 2, 26) ( 4, 29) ( 4, 37) ( 4, 86) ( 4, 98) ( 7, 63) ( 7, 64)\n",
      " ( 8, 30) ( 8, 68) (12, 31) (12, 41) (12, 62) (12, 67) (16, 26) (28, 71)\n",
      " (28, 84) (29, 37) (30, 68) (31, 62) (41, 46) (41, 67) (41, 76) (41, 86)\n",
      " (41, 92) (46, 86) (63, 64) (71, 84) (76, 92) (86, 98)]\n"
     ]
    }
   ],
   "source": [
    "faces = np.random.randint(0,100,(10,3))\n",
    "F = np.roll(faces.repeat(2,axis=1),-1,axis=1)\n",
    "F = F.reshape(len(F)*3,2)\n",
    "F = np.sort(F,axis=1)\n",
    "G = F.view(dtype=[('p0',F.dtype), ('p1',F.dtype)])\n",
    "G = np.unique(G)\n",
    "print(G)"
   ]
  },
  {
   "cell_type": "markdown",
   "metadata": {},
   "source": [
    "[numpy.repeat — NumPy v1.15 Manual](https://docs.scipy.org/doc/numpy-1.15.0/reference/generated/numpy.repeat.html)"
   ]
  },
  {
   "cell_type": "markdown",
   "metadata": {},
   "source": [
    "#### 74. Given an array C that is a bincount, how to produce an array A such that np.bincount(A) == C? (★★★)"
   ]
  },
  {
   "cell_type": "code",
   "execution_count": 579,
   "metadata": {},
   "outputs": [
    {
     "name": "stdout",
     "output_type": "stream",
     "text": [
      "[1 1 2 3 4 4 6]\n"
     ]
    }
   ],
   "source": [
    "C = np.bincount([1,1,2,3,4,4,6])\n",
    "A = np.repeat(np.arange(len(C)), C)\n",
    "print(A)"
   ]
  },
  {
   "cell_type": "markdown",
   "metadata": {},
   "source": [
    "#### 75. How to compute averages using a sliding window over an array? (★★★)"
   ]
  },
  {
   "cell_type": "code",
   "execution_count": 583,
   "metadata": {},
   "outputs": [
    {
     "name": "stdout",
     "output_type": "stream",
     "text": [
      "[ 0  1  2  3  4  5  6  7  8  9 10 11 12 13 14 15 16 17 18 19]\n",
      "[ 1.  2.  3.  4.  5.  6.  7.  8.  9. 10. 11. 12. 13. 14. 15. 16. 17. 18.]\n",
      "[ 1.  2.  3.  4.  5.  6.  7.  8.  9. 10. 11. 12. 13. 14. 15. 16. 17. 18.]\n"
     ]
    }
   ],
   "source": [
    "# 方法一\n",
    "def moving_average(a, n=3):\n",
    "    ret = np.cumsum(a, dtype=float)\n",
    "    ret[n:] = ret[n:] - ret[:-n]\n",
    "    return ret[n-1:] / n\n",
    "\n",
    "Z = np.arange(20)\n",
    "print(Z)\n",
    "print(moving_average(Z, n=3))\n",
    "\n",
    "# 方法二\n",
    "# np.ones(3)/3 gives equal weights. Use np.ones(4)/4 for window size 4.\n",
    "print(np.convolve(Z, np.ones(3)/3, mode='valid'))"
   ]
  },
  {
   "cell_type": "markdown",
   "metadata": {},
   "source": [
    "[Computing the Moving Average of a Sequence](https://pages.mtu.edu/~shene/COURSES/cs201/NOTES/chap08/mov-avg.html)   \n",
    "[NumPy数据分析练习  67.如何计算numpy数组的移动平均值？](https://www.numpy.org.cn/article/advanced/numpy_exercises_for_data_analysis.html)"
   ]
  },
  {
   "cell_type": "markdown",
   "metadata": {},
   "source": [
    "#### 76. Consider a one-dimensional array Z, build a two-dimensional array whose first row is (Z\\[0\\],Z\\[1\\],Z\\[2\\]) and each subsequent row is  shifted by 1 (last row should be (Z\\[-3\\],Z\\[-2\\],Z\\[-1\\]) (★★★)"
   ]
  },
  {
   "cell_type": "code",
   "execution_count": 2,
   "metadata": {},
   "outputs": [
    {
     "name": "stdout",
     "output_type": "stream",
     "text": [
      "[[0 1 2]\n",
      " [1 2 3]\n",
      " [2 3 4]\n",
      " [3 4 5]\n",
      " [4 5 6]\n",
      " [5 6 7]\n",
      " [6 7 8]\n",
      " [7 8 9]]\n"
     ]
    }
   ],
   "source": [
    "from numpy.lib import stride_tricks\n",
    "\n",
    "def rolling(a, window):\n",
    "    shape = (a.size - window + 1, window)\n",
    "    strides = (a.itemsize, a.itemsize)\n",
    "    return stride_tricks.as_strided(a, shape=shape, strides=strides)\n",
    "Z = rolling(np.arange(10), 3)\n",
    "print(Z)"
   ]
  },
  {
   "cell_type": "markdown",
   "metadata": {},
   "source": [
    "[numpy.lib.stride_tricks.as_strided — NumPy v1.15 Manual](https://docs.scipy.org/doc/numpy-1.15.0/reference/generated/numpy.lib.stride_tricks.as_strided.html)"
   ]
  },
  {
   "cell_type": "markdown",
   "metadata": {},
   "source": [
    "#### 77. How to negate a boolean, or to change the sign of a float inplace? (★★★)"
   ]
  },
  {
   "cell_type": "code",
   "execution_count": 9,
   "metadata": {},
   "outputs": [
    {
     "name": "stdout",
     "output_type": "stream",
     "text": [
      "[1 0 1 1 0 0 1 0 1 0 1 0 0 0 1 1 1 1 1 0 1 0 1 1 1 0 1 0 0 1 1 1 0 1 1 0 0\n",
      " 0 0 1 0 1 0 1 1 1 1 0 1 1 0 1 0 0 1 1 1 0 1 1 0 0 0 0 0 0 0 0 1 1 0 0 0 1\n",
      " 0 1 0 1 0 1 0 1 1 1 1 0 0 0 1 1 0 0 0 0 1 1 1 1 1 0] \n",
      "\n",
      "[0 1 0 0 1 1 0 1 0 1 0 1 1 1 0 0 0 0 0 1 0 1 0 0 0 1 0 1 1 0 0 0 1 0 0 1 1\n",
      " 1 1 0 1 0 1 0 0 0 0 1 0 0 1 0 1 1 0 0 0 1 0 0 1 1 1 1 1 1 1 1 0 0 1 1 1 0\n",
      " 1 0 1 0 1 0 1 0 0 0 0 1 1 1 0 0 1 1 1 1 0 0 0 0 0 1]\n"
     ]
    },
    {
     "data": {
      "text/plain": [
       "array([ 8.34110945e-01,  2.03059361e-01, -3.17076252e-01,  3.21620611e-01,\n",
       "        6.35769632e-01,  3.68110444e-02,  8.53213482e-01, -2.38508776e-01,\n",
       "       -1.22863471e-02, -4.60059851e-01,  8.32035508e-01, -1.56992556e-01,\n",
       "       -2.68811774e-01,  7.54220473e-01, -7.51974333e-01,  2.02596295e-01,\n",
       "       -1.84319217e-01, -3.74653702e-01,  3.26321653e-01, -1.47703361e-02,\n",
       "        9.49054982e-01,  9.26371187e-01, -7.07914455e-01, -5.65947294e-01,\n",
       "       -5.15682852e-01,  2.65600829e-01,  8.53533440e-01, -4.00732057e-01,\n",
       "        6.45462514e-01,  4.44859521e-01,  8.95123012e-01, -3.11650813e-03,\n",
       "       -6.05974161e-02,  6.88005567e-01,  2.83658321e-01,  6.92436123e-01,\n",
       "       -5.55409908e-01,  1.39090202e-01,  2.04720208e-01,  6.12113292e-01,\n",
       "        9.69333834e-03,  2.73150423e-01,  9.28208105e-01, -4.17621927e-01,\n",
       "       -4.97318502e-01,  8.09681823e-01, -5.82240034e-01,  4.87686490e-01,\n",
       "        4.46368046e-01, -8.28311279e-01, -3.19988045e-01,  9.34296415e-01,\n",
       "       -5.43686472e-01, -5.49202812e-04,  6.39114003e-01,  2.14180326e-01,\n",
       "        4.19147661e-01, -1.13994269e-01,  7.40199454e-01, -2.04891189e-01,\n",
       "        5.37702302e-01, -5.61651489e-01,  2.56042290e-01,  3.28793519e-01,\n",
       "        7.82805097e-01,  5.38959518e-01,  1.81924769e-01, -1.26127135e-01,\n",
       "        4.41210544e-01, -6.61602519e-01, -3.24299726e-01,  1.09319934e-01,\n",
       "       -5.33227381e-01,  8.57147342e-01,  9.00019457e-01,  2.16425468e-02,\n",
       "       -5.98118214e-01, -4.07035088e-01,  1.83087363e-01,  7.12726300e-01,\n",
       "        8.17285059e-01,  8.81146627e-01, -4.71063926e-01, -8.16237864e-01,\n",
       "        7.93753975e-01,  2.05514493e-01, -6.30572748e-01,  1.46476423e-01,\n",
       "        2.69806938e-01, -9.20179762e-02, -9.96054846e-01,  6.54523057e-01,\n",
       "        9.99834860e-01, -7.93224166e-03,  2.77701791e-01,  3.20403979e-01,\n",
       "       -3.52955500e-01, -4.47202883e-01, -6.48903948e-01,  1.72094460e-01])"
      ]
     },
     "execution_count": 9,
     "metadata": {},
     "output_type": "execute_result"
    }
   ],
   "source": [
    "Z = np.random.randint(0,2,100)\n",
    "print(Z, '\\n')\n",
    "np.logical_not(Z, out=Z)\n",
    "print(Z)\n",
    "\n",
    "Z = np.random.uniform(-1.0, 1.0, 100)\n",
    "# print(Z)\n",
    "np.negative(Z, out=Z)\n",
    "# print(Z)"
   ]
  },
  {
   "cell_type": "markdown",
   "metadata": {},
   "source": [
    "#### 78. Consider 2 sets of points P0,P1 describing lines (2d) and a point p, how to compute distance from p to each line i  (P0\\[i\\],P1\\[i\\])? (★★★)"
   ]
  },
  {
   "cell_type": "code",
   "execution_count": 11,
   "metadata": {},
   "outputs": [
    {
     "name": "stdout",
     "output_type": "stream",
     "text": [
      "[4.94974747 5.36656315]\n"
     ]
    }
   ],
   "source": [
    "def distance(P0, P1, p):\n",
    "    T = P1 - P0\n",
    "    L = (T**2).sum(axis=1)\n",
    "    U = -((P0[:,0]-p[...,0])*T[:,0] + (P0[:,1]-p[...,1])*T[:,1]) / L\n",
    "    U = U.reshape(len(U),1)\n",
    "    D = P0 + U*T - p\n",
    "    return np.sqrt((D**2).sum(axis=1))\n",
    "\n",
    "# P0 = np.random.uniform(-10,10,(10,2))\n",
    "# P1 = np.random.uniform(-10,10,(10,2))\n",
    "# p = np.random.uniform(-10,10,(1,2))\n",
    "P0 = np.array([[0, 1], [2, 3]])\n",
    "P1 = np.array([[5, 6], [3, 5]])\n",
    "p = np.array([[7, 1]])\n",
    "print(distance(P0, P1, p))"
   ]
  },
  {
   "cell_type": "markdown",
   "metadata": {},
   "source": [
    "#### 79. Consider 2 sets of points P0,P1 describing lines (2d) and a set of points P, how to compute distance from each point j (P\\[j\\]) to each line i (P0\\[i\\],P1\\[i\\])? (★★★)"
   ]
  },
  {
   "cell_type": "code",
   "execution_count": 12,
   "metadata": {},
   "outputs": [
    {
     "name": "stdout",
     "output_type": "stream",
     "text": [
      "[[4.94974747 5.36656315]\n",
      " [0.70710678 2.23606798]]\n"
     ]
    }
   ],
   "source": [
    "P0 = np.array([[0, 1], [2, 3]])\n",
    "P1 = np.array([[5, 6], [3, 5]])\n",
    "p = np.array([[7, 1], [8, 10]])\n",
    "print(np.array([distance(P0, P1, p_i) for p_i in p]))"
   ]
  },
  {
   "cell_type": "markdown",
   "metadata": {},
   "source": [
    "#### 80. Consider an arbitrary array, write a function that extract a subpart with a fixed shape and centered on a given element (pad with a `fill` value when necessary) (★★★)"
   ]
  },
  {
   "cell_type": "code",
   "execution_count": 13,
   "metadata": {},
   "outputs": [
    {
     "name": "stdout",
     "output_type": "stream",
     "text": [
      "[[5 7 8 9 8 4 8 4 9 3]\n",
      " [6 9 1 9 9 7 4 0 3 7]\n",
      " [3 8 6 0 2 7 3 4 4 6]\n",
      " [0 5 0 5 8 0 9 4 1 8]\n",
      " [2 0 7 1 8 6 7 3 8 6]\n",
      " [3 0 6 0 4 7 2 6 2 5]\n",
      " [5 9 7 7 6 4 1 4 9 6]\n",
      " [4 4 5 9 9 4 2 1 5 3]\n",
      " [0 8 9 4 8 6 3 9 9 8]\n",
      " [9 8 9 9 3 4 0 0 6 6]]\n",
      "[[0 0 0 0 0]\n",
      " [0 5 7 8 9]\n",
      " [0 6 9 1 9]\n",
      " [0 3 8 6 0]\n",
      " [0 0 5 0 5]]\n"
     ]
    },
    {
     "name": "stderr",
     "output_type": "stream",
     "text": [
      "c:\\program files (x86)\\microsoft visual studio\\shared\\python36_64\\lib\\site-packages\\ipykernel_launcher.py:23: FutureWarning: Using a non-tuple sequence for multidimensional indexing is deprecated; use `arr[tuple(seq)]` instead of `arr[seq]`. In the future this will be interpreted as an array index, `arr[np.array(seq)]`, which will result either in an error or a different result.\n"
     ]
    }
   ],
   "source": [
    "Z = np.random.randint(0,10,(10,10))\n",
    "shape = (5,5)\n",
    "fill = 0\n",
    "position = (1,1)\n",
    "\n",
    "R = np.ones(shape, dtype=Z.dtype)*fill\n",
    "P = np.array(list(position)).astype(int)\n",
    "Rs = np.array(list(R.shape)).astype(int)\n",
    "Zs = np.array(list(Z.shape)).astype(int)\n",
    "\n",
    "R_start = np.zeros((len(shape),)).astype(int)\n",
    "R_stop = np.array(list(shape)).astype(int)\n",
    "Z_start = (P-Rs//2)\n",
    "Z_stop = (P+Rs//2)+Rs%2\n",
    "\n",
    "R_start = (R_start - np.minimum(Z_start, 0)).tolist()\n",
    "Z_start = (np.maximum(Z_start, 0)).tolist()\n",
    "R_stop = np.maximum(R_start, (R_stop - np.maximum(Z_stop-Zs, 0))).tolist()\n",
    "Z_stop = (np.minimum(Z_stop, Zs)).tolist()\n",
    "\n",
    "r = [slice(start, stop) for start, stop in zip(R_start, R_stop)]\n",
    "z = [slice(start, stop) for start, stop in zip(Z_start, Z_stop)]\n",
    "R[r] = Z[z]\n",
    "print(Z)\n",
    "print(R)"
   ]
  },
  {
   "cell_type": "markdown",
   "metadata": {},
   "source": [
    "#### 81. Consider an array Z = \\[1,2,3,4,5,6,7,8,9,10,11,12,13,14\\], how to generate an array R = \\[\\[1,2,3,4\\], \\[2,3,4,5\\], \\[3,4,5,6\\], ..., \\[11,12,13,14\\]\\]? (★★★)"
   ]
  },
  {
   "cell_type": "code",
   "execution_count": 21,
   "metadata": {},
   "outputs": [
    {
     "name": "stdout",
     "output_type": "stream",
     "text": [
      "[[ 1  2  3  4]\n",
      " [ 2  3  4  5]\n",
      " [ 3  4  5  6]\n",
      " [ 4  5  6  7]\n",
      " [ 5  6  7  8]\n",
      " [ 6  7  8  9]\n",
      " [ 7  8  9 10]\n",
      " [ 8  9 10 11]\n",
      " [ 9 10 11 12]\n",
      " [10 11 12 13]\n",
      " [11 12 13 14]]\n"
     ]
    }
   ],
   "source": [
    "Z = np.arange(1,15)\n",
    "R = np.lib.stride_tricks.as_strided(Z,(11,4),(4,4))\n",
    "print(R)"
   ]
  },
  {
   "cell_type": "markdown",
   "metadata": {},
   "source": [
    "[numpy.lib.stride_tricks.as_strided — NumPy v1.15 Manual](https://docs.scipy.org/doc/numpy-1.15.0/reference/generated/numpy.lib.stride_tricks.as_strided.html)"
   ]
  },
  {
   "cell_type": "markdown",
   "metadata": {},
   "source": [
    "#### 82. Compute a matrix rank (★★★)"
   ]
  },
  {
   "cell_type": "code",
   "execution_count": 22,
   "metadata": {},
   "outputs": [
    {
     "name": "stdout",
     "output_type": "stream",
     "text": [
      "10\n"
     ]
    }
   ],
   "source": [
    "Z = np.random.uniform(0,1,(10,10))\n",
    "U, S, V = np.linalg.svd(Z)   # Singular Value Decomposition\n",
    "rank = np.sum(S > 1e-10)\n",
    "print(rank)"
   ]
  },
  {
   "cell_type": "markdown",
   "metadata": {},
   "source": [
    "[numpy.linalg.svd — NumPy v1.15 Manual](https://docs.scipy.org/doc/numpy-1.15.1/reference/generated/numpy.linalg.svd.html)"
   ]
  },
  {
   "cell_type": "markdown",
   "metadata": {},
   "source": [
    "#### 83. How to find the most frequent value in an array?"
   ]
  },
  {
   "cell_type": "code",
   "execution_count": 24,
   "metadata": {},
   "outputs": [
    {
     "name": "stdout",
     "output_type": "stream",
     "text": [
      "[4 0 1 1 6 1 4 5 7 0 2 2 6 0 4 5 7 3 5 7 3 1 0 1 8 7 4 7 4 6 4 2 5 7 3 1 8\n",
      " 1 7 0 8 8 1 8 0 7 6 8 3 1]\n",
      "1\n"
     ]
    }
   ],
   "source": [
    "Z = np.random.randint(0,10,50)\n",
    "print(Z)\n",
    "print(np.bincount(Z).argmax())"
   ]
  },
  {
   "cell_type": "markdown",
   "metadata": {},
   "source": [
    "#### 84. Extract all the contiguous 3x3 blocks from a random 10x10 matrix (★★★)"
   ]
  },
  {
   "cell_type": "code",
   "execution_count": 25,
   "metadata": {},
   "outputs": [
    {
     "name": "stdout",
     "output_type": "stream",
     "text": [
      "[[[[4 0 4]\n",
      "   [3 3 3]\n",
      "   [3 4 0]]\n",
      "\n",
      "  [[0 4 0]\n",
      "   [3 3 2]\n",
      "   [4 0 4]]\n",
      "\n",
      "  [[4 0 3]\n",
      "   [3 2 4]\n",
      "   [0 4 4]]\n",
      "\n",
      "  [[0 3 2]\n",
      "   [2 4 4]\n",
      "   [4 4 4]]\n",
      "\n",
      "  [[3 2 4]\n",
      "   [4 4 4]\n",
      "   [4 4 4]]\n",
      "\n",
      "  [[2 4 0]\n",
      "   [4 4 1]\n",
      "   [4 4 1]]\n",
      "\n",
      "  [[4 0 4]\n",
      "   [4 1 1]\n",
      "   [4 1 1]]\n",
      "\n",
      "  [[0 4 2]\n",
      "   [1 1 0]\n",
      "   [1 1 0]]]\n",
      "\n",
      "\n",
      " [[[3 3 3]\n",
      "   [3 4 0]\n",
      "   [3 3 4]]\n",
      "\n",
      "  [[3 3 2]\n",
      "   [4 0 4]\n",
      "   [3 4 1]]\n",
      "\n",
      "  [[3 2 4]\n",
      "   [0 4 4]\n",
      "   [4 1 1]]\n",
      "\n",
      "  [[2 4 4]\n",
      "   [4 4 4]\n",
      "   [1 1 3]]\n",
      "\n",
      "  [[4 4 4]\n",
      "   [4 4 4]\n",
      "   [1 3 3]]\n",
      "\n",
      "  [[4 4 1]\n",
      "   [4 4 1]\n",
      "   [3 3 2]]\n",
      "\n",
      "  [[4 1 1]\n",
      "   [4 1 1]\n",
      "   [3 2 2]]\n",
      "\n",
      "  [[1 1 0]\n",
      "   [1 1 0]\n",
      "   [2 2 4]]]\n",
      "\n",
      "\n",
      " [[[3 4 0]\n",
      "   [3 3 4]\n",
      "   [1 0 4]]\n",
      "\n",
      "  [[4 0 4]\n",
      "   [3 4 1]\n",
      "   [0 4 2]]\n",
      "\n",
      "  [[0 4 4]\n",
      "   [4 1 1]\n",
      "   [4 2 2]]\n",
      "\n",
      "  [[4 4 4]\n",
      "   [1 1 3]\n",
      "   [2 2 3]]\n",
      "\n",
      "  [[4 4 4]\n",
      "   [1 3 3]\n",
      "   [2 3 4]]\n",
      "\n",
      "  [[4 4 1]\n",
      "   [3 3 2]\n",
      "   [3 4 2]]\n",
      "\n",
      "  [[4 1 1]\n",
      "   [3 2 2]\n",
      "   [4 2 2]]\n",
      "\n",
      "  [[1 1 0]\n",
      "   [2 2 4]\n",
      "   [2 2 1]]]\n",
      "\n",
      "\n",
      " [[[3 3 4]\n",
      "   [1 0 4]\n",
      "   [3 2 2]]\n",
      "\n",
      "  [[3 4 1]\n",
      "   [0 4 2]\n",
      "   [2 2 3]]\n",
      "\n",
      "  [[4 1 1]\n",
      "   [4 2 2]\n",
      "   [2 3 1]]\n",
      "\n",
      "  [[1 1 3]\n",
      "   [2 2 3]\n",
      "   [3 1 1]]\n",
      "\n",
      "  [[1 3 3]\n",
      "   [2 3 4]\n",
      "   [1 1 0]]\n",
      "\n",
      "  [[3 3 2]\n",
      "   [3 4 2]\n",
      "   [1 0 4]]\n",
      "\n",
      "  [[3 2 2]\n",
      "   [4 2 2]\n",
      "   [0 4 1]]\n",
      "\n",
      "  [[2 2 4]\n",
      "   [2 2 1]\n",
      "   [4 1 0]]]\n",
      "\n",
      "\n",
      " [[[1 0 4]\n",
      "   [3 2 2]\n",
      "   [0 2 0]]\n",
      "\n",
      "  [[0 4 2]\n",
      "   [2 2 3]\n",
      "   [2 0 2]]\n",
      "\n",
      "  [[4 2 2]\n",
      "   [2 3 1]\n",
      "   [0 2 0]]\n",
      "\n",
      "  [[2 2 3]\n",
      "   [3 1 1]\n",
      "   [2 0 0]]\n",
      "\n",
      "  [[2 3 4]\n",
      "   [1 1 0]\n",
      "   [0 0 3]]\n",
      "\n",
      "  [[3 4 2]\n",
      "   [1 0 4]\n",
      "   [0 3 2]]\n",
      "\n",
      "  [[4 2 2]\n",
      "   [0 4 1]\n",
      "   [3 2 4]]\n",
      "\n",
      "  [[2 2 1]\n",
      "   [4 1 0]\n",
      "   [2 4 0]]]\n",
      "\n",
      "\n",
      " [[[3 2 2]\n",
      "   [0 2 0]\n",
      "   [2 4 2]]\n",
      "\n",
      "  [[2 2 3]\n",
      "   [2 0 2]\n",
      "   [4 2 4]]\n",
      "\n",
      "  [[2 3 1]\n",
      "   [0 2 0]\n",
      "   [2 4 2]]\n",
      "\n",
      "  [[3 1 1]\n",
      "   [2 0 0]\n",
      "   [4 2 4]]\n",
      "\n",
      "  [[1 1 0]\n",
      "   [0 0 3]\n",
      "   [2 4 0]]\n",
      "\n",
      "  [[1 0 4]\n",
      "   [0 3 2]\n",
      "   [4 0 4]]\n",
      "\n",
      "  [[0 4 1]\n",
      "   [3 2 4]\n",
      "   [0 4 3]]\n",
      "\n",
      "  [[4 1 0]\n",
      "   [2 4 0]\n",
      "   [4 3 4]]]\n",
      "\n",
      "\n",
      " [[[0 2 0]\n",
      "   [2 4 2]\n",
      "   [1 1 0]]\n",
      "\n",
      "  [[2 0 2]\n",
      "   [4 2 4]\n",
      "   [1 0 3]]\n",
      "\n",
      "  [[0 2 0]\n",
      "   [2 4 2]\n",
      "   [0 3 1]]\n",
      "\n",
      "  [[2 0 0]\n",
      "   [4 2 4]\n",
      "   [3 1 1]]\n",
      "\n",
      "  [[0 0 3]\n",
      "   [2 4 0]\n",
      "   [1 1 2]]\n",
      "\n",
      "  [[0 3 2]\n",
      "   [4 0 4]\n",
      "   [1 2 4]]\n",
      "\n",
      "  [[3 2 4]\n",
      "   [0 4 3]\n",
      "   [2 4 0]]\n",
      "\n",
      "  [[2 4 0]\n",
      "   [4 3 4]\n",
      "   [4 0 4]]]\n",
      "\n",
      "\n",
      " [[[2 4 2]\n",
      "   [1 1 0]\n",
      "   [1 0 1]]\n",
      "\n",
      "  [[4 2 4]\n",
      "   [1 0 3]\n",
      "   [0 1 3]]\n",
      "\n",
      "  [[2 4 2]\n",
      "   [0 3 1]\n",
      "   [1 3 4]]\n",
      "\n",
      "  [[4 2 4]\n",
      "   [3 1 1]\n",
      "   [3 4 2]]\n",
      "\n",
      "  [[2 4 0]\n",
      "   [1 1 2]\n",
      "   [4 2 3]]\n",
      "\n",
      "  [[4 0 4]\n",
      "   [1 2 4]\n",
      "   [2 3 4]]\n",
      "\n",
      "  [[0 4 3]\n",
      "   [2 4 0]\n",
      "   [3 4 4]]\n",
      "\n",
      "  [[4 3 4]\n",
      "   [4 0 4]\n",
      "   [4 4 4]]]]\n"
     ]
    }
   ],
   "source": [
    "Z = np.random.randint(0,5,(10,10))\n",
    "n = 3\n",
    "i = 1 + (Z.shape[0]-3)\n",
    "j = 1 + (Z.shape[1]-3)\n",
    "C = np.lib.stride_tricks.as_strided(Z, shape=(i,j,n,n), strides = Z.strides + Z.strides)\n",
    "print(C)"
   ]
  },
  {
   "cell_type": "markdown",
   "metadata": {},
   "source": [
    "#### 85. Create a 2D array subclass such that Z\\[i,j\\] == Z\\[j,i\\] (★★★)"
   ]
  },
  {
   "cell_type": "code",
   "execution_count": 27,
   "metadata": {},
   "outputs": [
    {
     "name": "stdout",
     "output_type": "stream",
     "text": [
      "[[ 3 13  7  4  5]\n",
      " [13  8 16  0  6]\n",
      " [ 7 16  2 42 10]\n",
      " [ 4  0 42  7 16]\n",
      " [ 5  6 10 16  3]]\n"
     ]
    }
   ],
   "source": [
    "class Symetric(np.ndarray):\n",
    "    def __setitem__(self, index, value):\n",
    "        i,j = index\n",
    "        super(Symetric, self).__setitem__((i,j), value)\n",
    "        super(Symetric, self).__setitem__((j,i), value)\n",
    "\n",
    "def symetric(Z):\n",
    "    return np.asarray(Z + Z.T - np.diag(Z.diagonal())).view(Symetric)\n",
    "\n",
    "S = symetric(np.random.randint(0, 10, (5,5)))\n",
    "S[2,3] = 42\n",
    "print(S)"
   ]
  },
  {
   "cell_type": "markdown",
   "metadata": {},
   "source": [
    "#### 86. Consider a set of p matrices wich shape (n,n) and a set of p vectors with shape (n,1). How to compute the sum of of the p matrix products at once? (result has shape (n,1)) (★★★)"
   ]
  },
  {
   "cell_type": "code",
   "execution_count": 29,
   "metadata": {},
   "outputs": [
    {
     "name": "stdout",
     "output_type": "stream",
     "text": [
      "[[200.]\n",
      " [200.]\n",
      " [200.]\n",
      " [200.]\n",
      " [200.]\n",
      " [200.]\n",
      " [200.]\n",
      " [200.]\n",
      " [200.]\n",
      " [200.]\n",
      " [200.]\n",
      " [200.]\n",
      " [200.]\n",
      " [200.]\n",
      " [200.]\n",
      " [200.]\n",
      " [200.]\n",
      " [200.]\n",
      " [200.]\n",
      " [200.]]\n"
     ]
    }
   ],
   "source": [
    "p, n = 10, 20\n",
    "M = np.ones((p,n,n))\n",
    "V = np.ones((p,n,1))\n",
    "S = np.tensordot(M, V, axes=[[0,2], [0,1]])\n",
    "print(S)\n",
    "\n",
    "# It works, because:\n",
    "# M is (p,n,n)\n",
    "# V is (p,n,1)\n",
    "# Thus, summing over the paired axes 0 and 0 (of M and V independently)\n",
    "# and 2 and 1, to remain with a (n,1) vector"
   ]
  },
  {
   "cell_type": "markdown",
   "metadata": {},
   "source": [
    "[numpy.tensordot — NumPy v1.14 Manual](https://docs.scipy.org/doc/numpy-1.14.0/reference/generated/numpy.tensordot.html)"
   ]
  },
  {
   "cell_type": "markdown",
   "metadata": {},
   "source": [
    "#### 87. Consider a 16x16 array, how to get the block-sum (block size is 4x4)? (★★★)"
   ]
  },
  {
   "cell_type": "code",
   "execution_count": 30,
   "metadata": {},
   "outputs": [
    {
     "name": "stdout",
     "output_type": "stream",
     "text": [
      "[[16. 16. 16. 16.]\n",
      " [16. 16. 16. 16.]\n",
      " [16. 16. 16. 16.]\n",
      " [16. 16. 16. 16.]]\n"
     ]
    }
   ],
   "source": [
    "Z = np.ones((16,16))\n",
    "k = 4\n",
    "S = np.add.reduceat(np.add.reduceat(Z, np.arange(0, Z.shape[0], k), axis=0),\n",
    "                                       np.arange(0, Z.shape[1], k), axis=1)\n",
    "print(S)"
   ]
  },
  {
   "cell_type": "markdown",
   "metadata": {},
   "source": [
    "#### 88. How to implement the Game of Life using numpy arrays? (★★★)"
   ]
  },
  {
   "cell_type": "code",
   "execution_count": 9,
   "metadata": {},
   "outputs": [
    {
     "name": "stdout",
     "output_type": "stream",
     "text": [
      "[[0 0 0 ... 0 0 0]\n",
      " [0 0 0 ... 0 0 0]\n",
      " [0 0 0 ... 0 0 0]\n",
      " ...\n",
      " [0 0 0 ... 0 0 0]\n",
      " [0 0 0 ... 0 0 0]\n",
      " [0 0 0 ... 0 0 0]]\n"
     ]
    }
   ],
   "source": [
    "def iterate(Z):\n",
    "    # Count neighbours\n",
    "    N = (Z[0:-2, 0:-2] + Z[0:-2, 1:-1] + Z[0:-2, 2:] + \n",
    "         Z[1:-1, 0:-2]                 + Z[1:-1, 2:] +\n",
    "         Z[2:, 0:-2] + Z[2:, 1:-1] + Z[2:, 2:])\n",
    "    \n",
    "    # Apply rules\n",
    "    birth = ((N==3) & (Z[1:-1, 1:-1]==0))\n",
    "    survive = ((N==2) | (N==3)) & (Z[1:-1, 1:-1]==1)\n",
    "    Z[...] = 0\n",
    "    Z[1:-1, 1:-1][birth | survive] = 1\n",
    "    return Z\n",
    "\n",
    "Z = np.random.randint(0,2,(50,50))\n",
    "for i in range(100): Z = iterate(Z)\n",
    "np.set_printoptions(threshold=1000)  # threshold=np.inf\n",
    "print(Z)"
   ]
  },
  {
   "cell_type": "markdown",
   "metadata": {},
   "source": [
    "[我想问下python中 逻辑与：“&”和“and”的区别](https://zhidao.baidu.com/question/308587899.html?qbl=relate_question_1)"
   ]
  },
  {
   "cell_type": "markdown",
   "metadata": {},
   "source": [
    "#### 89. How to get the n largest values of an array (★★★)"
   ]
  },
  {
   "cell_type": "code",
   "execution_count": 17,
   "metadata": {},
   "outputs": [
    {
     "name": "stdout",
     "output_type": "stream",
     "text": [
      "[7 8 9]\n",
      "[9 8 7]\n"
     ]
    }
   ],
   "source": [
    "# n = 3\n",
    "# Z = np.random.choice(100, 10, replace=False)  # 不放回抽取  不重复\n",
    "# Z.sort()\n",
    "# print(Z[:3])\n",
    "\n",
    "Z = np.arange(10)\n",
    "np.random.shuffle(Z)\n",
    "n = 3\n",
    "\n",
    "# Slow\n",
    "print(Z[np.argsort(Z)[-n:]])\n",
    "\n",
    "# Fast\n",
    "print(Z[np.argpartition(-Z,n)[:n]])"
   ]
  },
  {
   "cell_type": "markdown",
   "metadata": {},
   "source": [
    "[numpy中的argpartition用法](https://blog.csdn.net/MacwinWin/article/details/80002584)"
   ]
  },
  {
   "cell_type": "markdown",
   "metadata": {},
   "source": [
    "#### 90. Given an arbitrary number of vectors, build the cartesian product (every combinations of every item) (★★★)"
   ]
  },
  {
   "cell_type": "code",
   "execution_count": 18,
   "metadata": {
    "scrolled": true
   },
   "outputs": [
    {
     "name": "stdout",
     "output_type": "stream",
     "text": [
      "[[1 4 6]\n",
      " [1 4 7]\n",
      " [1 5 6]\n",
      " [1 5 7]\n",
      " [2 4 6]\n",
      " [2 4 7]\n",
      " [2 5 6]\n",
      " [2 5 7]\n",
      " [3 4 6]\n",
      " [3 4 7]\n",
      " [3 5 6]\n",
      " [3 5 7]]\n"
     ]
    }
   ],
   "source": [
    "def cartesian(arrays):\n",
    "    arrays = [np.asarray(a) for a in arrays]\n",
    "    shape = (len(x) for x in arrays)\n",
    "    \n",
    "    ix = np.indices(shape, dtype=int)\n",
    "    ix = ix.reshape(len(arrays), -1).T\n",
    "    \n",
    "    for n, arr in enumerate(arrays):\n",
    "        ix[:,n] = arrays[n][ix[:, n]]\n",
    "    \n",
    "    return ix\n",
    "\n",
    "print(cartesian(([1,2,3], [4,5], [6,7])))"
   ]
  },
  {
   "cell_type": "markdown",
   "metadata": {},
   "source": [
    "[笛卡儿积](https://zh.wikipedia.org/wiki/笛卡儿积)"
   ]
  },
  {
   "cell_type": "markdown",
   "metadata": {},
   "source": [
    "#### 91. How to create a record array from a regular array? (★★★)"
   ]
  },
  {
   "cell_type": "code",
   "execution_count": 21,
   "metadata": {},
   "outputs": [
    {
     "name": "stdout",
     "output_type": "stream",
     "text": [
      "[(b'Hello', 2.5, 3) (b'World', 3.6, 2)]\n"
     ]
    }
   ],
   "source": [
    "Z = np.array([(\"Hello\", 2.5, 3),\n",
    "              (\"World\", 3.6, 2)])\n",
    "R = np.core.records.fromarrays(Z.T,\n",
    "                               names='col1, col2, col3',\n",
    "                               formats='S8, f8, i8')\n",
    "\n",
    "print(R)"
   ]
  },
  {
   "cell_type": "markdown",
   "metadata": {},
   "source": [
    "[numpy.core.records.fromarrays — NumPy v1.16 Manual](https://docs.scipy.org/doc/numpy/reference/generated/numpy.core.records.fromarrays.html)"
   ]
  },
  {
   "cell_type": "markdown",
   "metadata": {},
   "source": [
    "#### 92. Consider a large vector Z, compute Z to the power of 3 using 3 different methods (★★★)"
   ]
  },
  {
   "cell_type": "code",
   "execution_count": 49,
   "metadata": {},
   "outputs": [
    {
     "name": "stdout",
     "output_type": "stream",
     "text": [
      "563 ms ± 89.5 ms per loop (mean ± std. dev. of 7 runs, 1 loop each)\n",
      "499 ms ± 28.6 ms per loop (mean ± std. dev. of 7 runs, 1 loop each)\n",
      "146 ms ± 20.9 ms per loop (mean ± std. dev. of 7 runs, 10 loops each)\n",
      "138 ms ± 14.1 ms per loop (mean ± std. dev. of 7 runs, 10 loops each)\n",
      "87.4 ms ± 11.9 ms per loop (mean ± std. dev. of 7 runs, 10 loops each)\n"
     ]
    }
   ],
   "source": [
    "Z = np.arange(1e7)\n",
    "\n",
    "# Z1 = np.power(Z, 3)\n",
    "# print(Z1)\n",
    "\n",
    "# Z2 = Z**3\n",
    "# print(Z2)\n",
    "\n",
    "# Z3 = np.multiply(np.multiply(Z, Z), Z)\n",
    "# print(Z3)\n",
    "\n",
    "%timeit np.power(Z, 3)\n",
    "%timeit Z**3\n",
    "%timeit Z*Z*Z\n",
    "%timeit np.multiply(np.multiply(Z, Z), Z)\n",
    "%timeit np.einsum('i,i,i->i',Z,Z,Z)\n",
    "\n",
    "# %time np.power(Z,3)\n",
    "# %time Z**3\n",
    "# %time Z*Z*Z\n",
    "# %time np.multiply(np.multiply(Z, Z), Z)\n",
    "# %time np.einsum('i,i,i->i',Z,Z,Z)"
   ]
  },
  {
   "cell_type": "markdown",
   "metadata": {},
   "source": [
    "[IPython Build-in magic commands %timeit](https://ipython.readthedocs.io/en/stable/interactive/magics.html)   \n",
    "[测试代码的执行时间：%time和%timeit](https://blog.csdn.net/kanon122500000/article/details/57413648)   \n",
    "[Python性能优化的20条建议](https://www.jianshu.com/p/2b71b8fd97aa)   "
   ]
  },
  {
   "cell_type": "markdown",
   "metadata": {},
   "source": [
    "#### 93. Consider two arrays A and B of shape (8,3) and (2,2). How to find rows of A that contain elements of each row of B regardless of the order of the elements in B? (★★★)"
   ]
  },
  {
   "cell_type": "code",
   "execution_count": 52,
   "metadata": {},
   "outputs": [
    {
     "name": "stdout",
     "output_type": "stream",
     "text": [
      "[0 1 2 3 4 6]\n"
     ]
    }
   ],
   "source": [
    "A = np.random.randint(0,5,(8,3))\n",
    "B = np.random.randint(0,5,(2,2))\n",
    "\n",
    "C = (A[..., np.newaxis, np.newaxis] == B)\n",
    "rows = np.where(C.any((3,1)).all(1))[0]\n",
    "print(rows)"
   ]
  },
  {
   "cell_type": "markdown",
   "metadata": {},
   "source": [
    "[How does numpy.newaxis work and when to use it?](https://stackoverflow.com/questions/29241056/how-does-numpy-newaxis-work-and-when-to-use-it)   \n",
    "[np.any - Test whether any array element along a given axis evaluates to True.](https://docs.scipy.org/doc/numpy-1.14.0/reference/generated/numpy.any.html)   \n",
    "[np.all - Test whether all array elements along a given axis evaluate to True.](https://docs.scipy.org/doc/numpy-1.14.0/reference/generated/numpy.all.html)   \n",
    "[numpy.where — NumPy v1.16 Manual](https://docs.scipy.org/doc/numpy/reference/generated/numpy.where.html)   "
   ]
  },
  {
   "cell_type": "markdown",
   "metadata": {},
   "source": [
    "#### 94. Considering a 10x3 matrix, extract rows with unequal values (e.g. \\[2,2,3\\]) (★★★)"
   ]
  },
  {
   "cell_type": "code",
   "execution_count": 61,
   "metadata": {},
   "outputs": [
    {
     "name": "stdout",
     "output_type": "stream",
     "text": [
      "[[3 2 1]\n",
      " [4 4 0]\n",
      " [3 4 1]\n",
      " [4 2 1]\n",
      " [1 1 0]\n",
      " [4 1 4]\n",
      " [1 0 0]\n",
      " [4 2 2]\n",
      " [3 2 3]\n",
      " [0 0 2]] \n",
      "\n",
      "[[3 2 1]\n",
      " [4 4 0]\n",
      " [3 4 1]\n",
      " [4 2 1]\n",
      " [1 1 0]\n",
      " [4 1 4]\n",
      " [1 0 0]\n",
      " [4 2 2]\n",
      " [3 2 3]\n",
      " [0 0 2]] \n",
      "\n",
      "[[1.  2.  1. ]\n",
      " [2.  3.  1.5]]\n"
     ]
    }
   ],
   "source": [
    "Z = np.random.randint(0,5, (10,3))\n",
    "print(Z, '\\n')\n",
    "\n",
    "# solution for arrays of all dtypes (including string arrays and record arrays)\n",
    "E = np.all(Z[:,1:] == Z[:,:-1], axis=1)\n",
    "U = Z[~E]\n",
    "print(U, '\\n')\n",
    "\n",
    "Z = np.array([[1,2,1],[1.1,1.1,1.1], [2, 3, 1.5]])\n",
    "# solution for numerical arrays only, will work for any number of columns in Z\n",
    "U = Z[Z.max(axis=1) != Z.min(axis=1)]\n",
    "print(U)"
   ]
  },
  {
   "cell_type": "markdown",
   "metadata": {},
   "source": [
    "#### 95. Convert a vector of ints into a matrix binary representation (★★★)"
   ]
  },
  {
   "cell_type": "code",
   "execution_count": 64,
   "metadata": {},
   "outputs": [
    {
     "name": "stdout",
     "output_type": "stream",
     "text": [
      "[[0 0 0 0 0 0 0 0]\n",
      " [0 0 0 0 0 0 0 1]\n",
      " [0 0 0 0 0 0 1 0]\n",
      " [0 0 0 0 0 0 1 1]\n",
      " [0 0 0 0 1 1 1 1]\n",
      " [0 0 0 1 0 0 0 0]\n",
      " [0 0 1 0 0 0 0 0]\n",
      " [0 1 0 0 0 0 0 0]\n",
      " [1 0 0 0 0 0 0 0]]\n"
     ]
    }
   ],
   "source": [
    "# I = np.array([0, 1, 2, 3, 15, 16, 32, 64, 128])\n",
    "# B = ((I.reshape(-1,1) & (2**np.arange(8))) != 0).astype(int)\n",
    "# print(B[:,::-1])\n",
    "\n",
    "I = np.array([0, 1, 2, 3, 15, 16, 32, 64, 128], dtype=np.uint8)\n",
    "print(np.unpackbits(I[:, np.newaxis], axis=1))"
   ]
  },
  {
   "cell_type": "code",
   "execution_count": 76,
   "metadata": {},
   "outputs": [
    {
     "name": "stdout",
     "output_type": "stream",
     "text": [
      "[[1]\n",
      " [2]\n",
      " [7]\n",
      " [9]] \n",
      "\n",
      "[1 2 4 8] \n",
      "\n",
      "[[1 0 0 0]\n",
      " [0 2 0 0]\n",
      " [1 2 4 0]\n",
      " [1 0 0 8]] \n",
      "\n",
      "[[1 0 0 0]\n",
      " [0 1 0 0]\n",
      " [1 1 1 0]\n",
      " [1 0 0 1]] \n",
      "\n",
      "[[0 0 0 1]\n",
      " [0 0 1 0]\n",
      " [0 1 1 1]\n",
      " [1 0 0 1]]\n"
     ]
    }
   ],
   "source": [
    "a = np.array([1,2,7,9]).reshape(-1,1)\n",
    "b = np.array(2**np.arange(4))\n",
    "c = (a & b != 0).astype(int)\n",
    "output = c[:,::-1]\n",
    "\n",
    "print(a, '\\n')\n",
    "print(b, '\\n')\n",
    "print(a&b, '\\n')\n",
    "print(c, '\\n')\n",
    "print(output)"
   ]
  },
  {
   "cell_type": "code",
   "execution_count": 80,
   "metadata": {},
   "outputs": [
    {
     "name": "stdout",
     "output_type": "stream",
     "text": [
      "0\n",
      "1\n",
      "2\n",
      "4\n",
      "0\n"
     ]
    }
   ],
   "source": [
    "print(2 & 4)   #  0010 & 0100   -   0000 (0)\n",
    "print(7 & 1)   #  0111 & 0001   -   0001 (1)\n",
    "print(7 & 2)   #  0111 & 0010   -   0010 (2)\n",
    "print(7 & 4)   #  0111 & 0100   -   0100 (4)\n",
    "print(7 & 8)   #  0111 & 1000   -   0000 (0)"
   ]
  },
  {
   "cell_type": "markdown",
   "metadata": {},
   "source": [
    "[numpy.unpackbits — NumPy v1.15 Manual](https://docs.scipy.org/doc/numpy-1.15.0/reference/generated/numpy.unpackbits.html)"
   ]
  },
  {
   "cell_type": "markdown",
   "metadata": {},
   "source": [
    "#### 96. Given a two dimensional array, how to extract unique rows? (★★★)"
   ]
  },
  {
   "cell_type": "code",
   "execution_count": 83,
   "metadata": {},
   "outputs": [
    {
     "name": "stdout",
     "output_type": "stream",
     "text": [
      "[[0 1 0]\n",
      " [1 0 0]\n",
      " [1 0 1]\n",
      " [1 1 1]]\n"
     ]
    }
   ],
   "source": [
    "Z = np.random.randint(0,2,(6,3))\n",
    "# T = np.ascontiguousarray(Z).view(np.dtype((np.void, Z.dtype.itemsize * Z.shape[1])))\n",
    "# _, idx = np.unique(T, return_index=True)\n",
    "# uZ = Z[idx]\n",
    "# print(uZ)\n",
    "\n",
    "uZ = np.unique(Z,axis=0)\n",
    "print(uZ)"
   ]
  },
  {
   "cell_type": "markdown",
   "metadata": {},
   "source": [
    "#### 97. Considering 2 vectors A & B, write the einsum equivalent of inner, outer, sum, and mul function (★★★)"
   ]
  },
  {
   "cell_type": "code",
   "execution_count": 95,
   "metadata": {},
   "outputs": [
    {
     "name": "stdout",
     "output_type": "stream",
     "text": [
      "6 \n",
      "\n",
      "[ 4 10 18] \n",
      "\n",
      "32 \n",
      "\n",
      "[[ 4  5  6]\n",
      " [ 8 10 12]\n",
      " [12 15 18]]\n"
     ]
    }
   ],
   "source": [
    "a = np.array([1, 2, 3])\n",
    "b = np.array([4, 5, 6])\n",
    "\n",
    "print(np.einsum('i->', a), '\\n')  # a向量元素和   np.sum(a)\n",
    "print(np.einsum('i,i->i', a, b), '\\n')  # a,b向量点乘   a * b\n",
    "print(np.einsum('i,i', a, b), '\\n')   # 内积   np.inner(a,b)\n",
    "print(np.einsum('i,j->ij', a, b))  # 外积  np.outer(a,b)"
   ]
  },
  {
   "cell_type": "markdown",
   "metadata": {},
   "source": [
    "[numpy.einsum — NumPy v1.16 Manual](https://docs.scipy.org/doc/numpy/reference/generated/numpy.einsum.html)   \n",
    "[A basic introduction to NumPy's einsum](http://ajcr.net/Basic-guide-to-einsum/)"
   ]
  },
  {
   "cell_type": "markdown",
   "metadata": {},
   "source": [
    "#### 98. Considering a path described by two vectors (X,Y), how to sample it using equidistant samples (★★★)?"
   ]
  },
  {
   "cell_type": "code",
   "execution_count": 97,
   "metadata": {},
   "outputs": [
    {
     "data": {
      "image/png": "[encoded data removed]",
      "text/plain": [
       "<Figure size 432x288 with 1 Axes>"
      ]
     },
     "metadata": {
      "needs_background": "light"
     },
     "output_type": "display_data"
    }
   ],
   "source": [
    "import matplotlib.pyplot as plt\n",
    "%matplotlib inline\n",
    "\n",
    "phi = np.arange(0, 10*np.pi, 0.1)\n",
    "a = 1\n",
    "x = a*phi*np.cos(phi)\n",
    "y = a*phi*np.sin(phi)\n",
    "\n",
    "plt.plot(x,y)\n",
    "plt.show()"
   ]
  },
  {
   "cell_type": "code",
   "execution_count": 98,
   "metadata": {},
   "outputs": [
    {
     "data": {
      "text/plain": [
       "[<matplotlib.lines.Line2D at 0x1ea9114d748>]"
      ]
     },
     "execution_count": 98,
     "metadata": {},
     "output_type": "execute_result"
    },
    {
     "data": {
      "image/png": "[encoded data removed]",
      "text/plain": [
       "<Figure size 432x288 with 1 Axes>"
      ]
     },
     "metadata": {
      "needs_background": "light"
     },
     "output_type": "display_data"
    }
   ],
   "source": [
    "dr = (np.diff(x)**2 + np.diff(y)**2)**0.5   # segment lengths\n",
    "r = np.zeros_like(x)  # Return an array of zeros with the same shape and type as x\n",
    "r[1:] = np.cumsum(dr)  # 累加和\n",
    "r_int = np.linspace(0, r.max(), 200)\n",
    "x_int = np.interp(r_int, r, x)   # 一维线性插值\n",
    "y_int = np.interp(r_int, r, y)\n",
    "plt.plot(x_int, y_int)"
   ]
  },
  {
   "cell_type": "markdown",
   "metadata": {},
   "source": [
    "[numpy.cumsum — NumPy v1.15 Manual](https://docs.scipy.org/doc/numpy-1.15.0/reference/generated/numpy.cumsum.html)   \n",
    "[numpy.interp — NumPy v1.14 Manual](https://docs.scipy.org/doc/numpy-1.14.0/reference/generated/numpy.interp.html)   "
   ]
  },
  {
   "cell_type": "markdown",
   "metadata": {},
   "source": [
    "#### 99. Given an integer n and a 2D array X, select from X the rows which can be interpreted as draws from a multinomial distribution with n degrees, i.e., the rows which only contain integers and which sum to n. (★★★)"
   ]
  },
  {
   "cell_type": "code",
   "execution_count": 102,
   "metadata": {},
   "outputs": [
    {
     "name": "stdout",
     "output_type": "stream",
     "text": [
      "[[2. 0. 1. 1.]]\n"
     ]
    }
   ],
   "source": [
    "X = np.asarray([[1.0, 0.0, 3.0, 8.0],\n",
    "                [2.0, 0.0, 1.0, 1.0],\n",
    "                [1.5, 2.5, 1.0, 0.0]])\n",
    "n = 4\n",
    "# M = np.logical_and.reduce(np.mod(X,1) == 0, axis=-1)   # np.logical_and.reduce 相当于 np.all\n",
    "M = np.all(np.mod(X,1) == 0, axis=-1)\n",
    "M &= (X.sum(axis=-1) == n)\n",
    "print(X[M])"
   ]
  },
  {
   "cell_type": "markdown",
   "metadata": {},
   "source": [
    "[利用 Python 进行数据分析 中文第二版 附录A NumPy高级应用](https://juejin.im/entry/5abf3b45f265da239d496f24)   \n",
    "[中文Python笔记 ufunc 对象](https://www.bookstack.cn/read/notes-python/43.md)"
   ]
  },
  {
   "cell_type": "markdown",
   "metadata": {},
   "source": [
    "#### 100. Compute bootstrapped 95% confidence intervals for the mean of a 1D array X (i.e., resample the elements of an array with replacement N times, compute the mean of each sample, and then compute percentiles over the means). (★★★)"
   ]
  },
  {
   "cell_type": "code",
   "execution_count": 137,
   "metadata": {},
   "outputs": [
    {
     "name": "stdout",
     "output_type": "stream",
     "text": [
      "[-0.09256014  0.2940492 ]\n"
     ]
    }
   ],
   "source": [
    "X = np.random.randn(100)   # random 1D array\n",
    "N = 1000  # number of bootstrap samples\n",
    "idx = np.random.randint(0, X.size, (N, X.size))\n",
    "means = X[idx].mean(axis=1)\n",
    "confint = np.percentile(means, [2.5, 97.5])   # %2.5 和 %97.5分位上的数  %0, %1, %2, %3\n",
    "print(confint)                                # (%2 + %3) / 2 \n",
    "# print(sorted(np.round(means,3)))\n",
    "# print(np.round(means, 3))"
   ]
  },
  {
   "cell_type": "code",
   "execution_count": 131,
   "metadata": {},
   "outputs": [
    {
     "name": "stdout",
     "output_type": "stream",
     "text": [
      "[1 2] \n",
      "\n",
      "[[1 1]\n",
      " [0 1]\n",
      " [1 0]\n",
      " [1 0]\n",
      " [1 1]\n",
      " [1 1]\n",
      " [1 1]\n",
      " [0 1]\n",
      " [0 0]\n",
      " [1 1]] \n",
      "\n",
      "[[2 2]\n",
      " [1 2]\n",
      " [2 1]\n",
      " [2 1]\n",
      " [2 2]\n",
      " [2 2]\n",
      " [2 2]\n",
      " [1 2]\n",
      " [1 1]\n",
      " [2 2]] \n",
      "\n",
      "[2.  1.5 1.5 1.5 2.  2.  2.  1.5 1.  2. ] \n",
      "\n",
      "[1.0, 1.5, 1.5, 1.5, 1.5, 2.0, 2.0, 2.0, 2.0, 2.0] \n",
      "\n",
      "[1.5  1.75]\n"
     ]
    }
   ],
   "source": [
    "a1 = np.array([1, 2])\n",
    "ida = np.random.randint(0, a1.size, (10, a1.size))\n",
    "aa1 = a1[ida]\n",
    "m1 = a1[ida].mean(axis=1)\n",
    "print(a1, '\\n')\n",
    "print(ida, '\\n')\n",
    "print(aa1, '\\n')\n",
    "print(m1, '\\n')\n",
    "print(sorted(m1), '\\n')\n",
    "print(np.percentile(m1, [25, 50]))"
   ]
  },
  {
   "cell_type": "markdown",
   "metadata": {},
   "source": [
    "[numpy.percentile — NumPy v1.15 Manual](https://docs.scipy.org/doc/numpy-1.15.0/reference/generated/numpy.percentile.html)   "
   ]
  }
 ],
 "metadata": {
  "kernelspec": {
   "display_name": "Python 3",
   "language": "python",
   "name": "python3"
  },
  "language_info": {
   "codemirror_mode": {
    "name": "ipython",
    "version": 3
   },
   "file_extension": ".py",
   "mimetype": "text/x-python",
   "name": "python",
   "nbconvert_exporter": "python",
   "pygments_lexer": "ipython3",
   "version": "3.6.5"
  }
 },
 "nbformat": 4,
 "nbformat_minor": 1
}
